{
  "nbformat": 4,
  "nbformat_minor": 0,
  "metadata": {
    "colab": {
      "provenance": [],
      "authorship_tag": "ABX9TyPL09QoT1e+Y0lgOmoKZfo5",
      "include_colab_link": true
    },
    "kernelspec": {
      "name": "python3",
      "display_name": "Python 3"
    },
    "language_info": {
      "name": "python"
    }
  },
  "cells": [
    {
      "cell_type": "markdown",
      "metadata": {
        "id": "view-in-github",
        "colab_type": "text"
      },
      "source": [
        "<a href=\"https://colab.research.google.com/github/JaquelineMera/python_practicas/blob/main/Estudio_Python_01.ipynb\" target=\"_parent\"><img src=\"https://colab.research.google.com/assets/colab-badge.svg\" alt=\"Open In Colab\"/></a>"
      ]
    },
    {
      "cell_type": "markdown",
      "source": [
        "Prácticas con Python"
      ],
      "metadata": {
        "id": "Op5m5s9VFHTK"
      }
    },
    {
      "cell_type": "markdown",
      "source": [
        "Objetivo 1"
      ],
      "metadata": {
        "id": "tpEeRg57H0aV"
      }
    },
    {
      "cell_type": "code",
      "execution_count": null,
      "metadata": {
        "colab": {
          "base_uri": "https://localhost:8080/"
        },
        "id": "QAS8PmOKFFCO",
        "outputId": "4ddd5ee1-2feb-4392-8bb9-4be7337b08dd"
      },
      "outputs": [
        {
          "output_type": "stream",
          "name": "stdout",
          "text": [
            "¡Hola Time of Software!\n",
            "Este es mi primer programa con Python\n"
          ]
        }
      ],
      "source": [
        "print(\"¡Hola Time of Software!\")\n",
        "print(\"Este es mi primer programa con Python\")"
      ]
    },
    {
      "cell_type": "code",
      "source": [
        "print(1,2,3,4,5)\n",
        "print(1,2,3,4,5, sep=' Empleado,')"
      ],
      "metadata": {
        "colab": {
          "base_uri": "https://localhost:8080/"
        },
        "id": "sYCJMbn7FfWc",
        "outputId": "47adad16-72a3-4156-eae1-31ffd654aeed"
      },
      "execution_count": null,
      "outputs": [
        {
          "output_type": "stream",
          "name": "stdout",
          "text": [
            "1 2 3 4 5\n",
            "1 Empleado,2 Empleado,3 Empleado,4 Empleado,5\n"
          ]
        }
      ]
    },
    {
      "cell_type": "code",
      "source": [
        "print(1,2,3,4,5, sep=',', end='.')"
      ],
      "metadata": {
        "colab": {
          "base_uri": "https://localhost:8080/"
        },
        "id": "XH_yVoh4Gd7a",
        "outputId": "0406e87c-cb94-4f36-d604-5792e8b39ded"
      },
      "execution_count": null,
      "outputs": [
        {
          "output_type": "stream",
          "name": "stdout",
          "text": [
            "1,2,3,4,5."
          ]
        }
      ]
    },
    {
      "cell_type": "code",
      "source": [
        "print(\"¡Hola! Somos Time of Software, ¿Como te llamas?\")\n",
        "nombre = input()\n",
        "print(\"Nos alegramos mucho de que nos hayas elegido para aprender Python, \", nombre)"
      ],
      "metadata": {
        "colab": {
          "base_uri": "https://localhost:8080/"
        },
        "id": "jJzpjtbHHNCq",
        "outputId": "b2174fe6-f672-4a55-8f58-ea93f03006e9"
      },
      "execution_count": null,
      "outputs": [
        {
          "output_type": "stream",
          "name": "stdout",
          "text": [
            "¡Hola! Somos Time of Software, ¿Como te llamas?\n",
            "Emily\n",
            "Nos alegramos mucho de que nos hayas elegido para aprender Python,  Emily\n"
          ]
        }
      ]
    },
    {
      "cell_type": "code",
      "source": [
        "edad = input(\"¿Cuántos años tienes?: \")\n",
        "print(\"Tienes\",edad,\"años.\")"
      ],
      "metadata": {
        "colab": {
          "base_uri": "https://localhost:8080/"
        },
        "id": "jcjOpituHjly",
        "outputId": "8a60cf1c-d4c9-4974-f81e-ee8a740c0e12"
      },
      "execution_count": null,
      "outputs": [
        {
          "output_type": "stream",
          "name": "stdout",
          "text": [
            "¿Cuántos años tienes?: 28\n",
            "Tienes 28 años.\n"
          ]
        }
      ]
    },
    {
      "cell_type": "markdown",
      "source": [
        "Objetivo 2: Números y operadores aritméticos"
      ],
      "metadata": {
        "id": "nZh5rjoMIBYK"
      }
    },
    {
      "cell_type": "code",
      "source": [
        "sumando1 = int(input(\"Introduzca el primer sumando: \"))\n",
        "sumando2 = int(input(\"Introduzca el segundo sumando: \"))\n",
        "print(\"Resultado de la suma: \", sumando1 + sumando2)"
      ],
      "metadata": {
        "colab": {
          "base_uri": "https://localhost:8080/"
        },
        "id": "7KK4yED1H3E0",
        "outputId": "0d2d8d91-a87f-4af4-c987-d34993d5e8af"
      },
      "execution_count": null,
      "outputs": [
        {
          "output_type": "stream",
          "name": "stdout",
          "text": [
            "Introduzca el primer sumando: 1\n",
            "Introduzca el segundo sumando: 1\n",
            "Resultado de la suma:  2\n"
          ]
        }
      ]
    },
    {
      "cell_type": "code",
      "source": [
        "sumando1 = float(input(\"Introduzca el primer sumando (Decimal): \"))\n",
        "sumando2 = float(input(\"Introduzca el segundo sumando (Decimal): \"))\n",
        "print(\"Resultado de la suma: \", sumando1 + sumando2)"
      ],
      "metadata": {
        "colab": {
          "base_uri": "https://localhost:8080/"
        },
        "id": "3DMdJzP_u3-B",
        "outputId": "e35a6bee-b818-4cdd-be29-c5a597dc91b5"
      },
      "execution_count": null,
      "outputs": [
        {
          "output_type": "stream",
          "name": "stdout",
          "text": [
            "Introduzca el primer sumando (Decimal): 1\n",
            "Introduzca el segundo sumando (Decimal): 1\n",
            "Resultado de la suma:  2.0\n"
          ]
        }
      ]
    },
    {
      "cell_type": "code",
      "source": [
        "minuendo = int(input(\"Introduzca el minuendo: \"))\n",
        "sustraendo = int(input(\"Introduzca el sustraendo: \"))\n",
        "print(\"Resultado de la resta: \", minuendo - sustraendo)"
      ],
      "metadata": {
        "colab": {
          "base_uri": "https://localhost:8080/"
        },
        "id": "-0UYafb9vSSt",
        "outputId": "ca27c6ad-bc18-43e1-9246-7c0d6c58f59f"
      },
      "execution_count": null,
      "outputs": [
        {
          "output_type": "stream",
          "name": "stdout",
          "text": [
            "Introduzca el minuendo: 1\n",
            "Introduzca el sustraendo: 1\n",
            "Resultado de la resta:  0\n"
          ]
        }
      ]
    },
    {
      "cell_type": "code",
      "source": [
        "minuendo = float(input(\"Introduzca el minuendo: \"))\n",
        "sustraendo = float(input(\"Introduzca el sustraendo: \"))\n",
        "print(\"Resultado de la resta: \", minuendo - sustraendo)"
      ],
      "metadata": {
        "colab": {
          "base_uri": "https://localhost:8080/"
        },
        "id": "UwSqmgX9vYu0",
        "outputId": "544dc2b7-4f76-4db0-d08f-bfb3892a157f"
      },
      "execution_count": null,
      "outputs": [
        {
          "output_type": "stream",
          "name": "stdout",
          "text": [
            "Introduzca el minuendo: 2\n",
            "Introduzca el sustraendo: 1\n",
            "Resultado de la resta:  1.0\n"
          ]
        }
      ]
    },
    {
      "cell_type": "code",
      "source": [
        "multiplicando = int(input(\"Introduzca el multiplicando: \"))\n",
        "multiplicador = int(input(\"Introduzca el multiplicador: \"))\n",
        "print(\"Resultado de la multiplicacion: \", multiplicando * multiplicador)"
      ],
      "metadata": {
        "colab": {
          "base_uri": "https://localhost:8080/"
        },
        "id": "0M2xjD1gvfJ0",
        "outputId": "51173de1-f8e0-4c7c-c555-4f694ecf6343"
      },
      "execution_count": null,
      "outputs": [
        {
          "output_type": "stream",
          "name": "stdout",
          "text": [
            "Introduzca el multiplicando: 2\n",
            "Introduzca el multiplicador: 2\n",
            "Resultado de la multiplicacion:  4\n"
          ]
        }
      ]
    },
    {
      "cell_type": "code",
      "source": [
        "multiplicando = float(input(\"Introduzca el multiplicando: \"))\n",
        "multiplicador = float(input(\"Introduzca el multiplicador: \"))\n",
        "print(\"Resultado de la multiplicacion: \", multiplicando * multiplicador)"
      ],
      "metadata": {
        "colab": {
          "base_uri": "https://localhost:8080/"
        },
        "id": "3xGcRM_vvjRg",
        "outputId": "f0ca8493-bf7b-44d3-e01b-920d4b46e06f"
      },
      "execution_count": null,
      "outputs": [
        {
          "output_type": "stream",
          "name": "stdout",
          "text": [
            "Introduzca el multiplicando: 2\n",
            "Introduzca el multiplicador: 2\n",
            "Resultado de la multiplicacion:  4.0\n"
          ]
        }
      ]
    },
    {
      "cell_type": "code",
      "source": [
        "dividendo = int(input(\"Introduzca el dividendo: \"))\n",
        "divisor = int(input(\"Introduzca el divisor: \"))\n",
        "print(\"Resultado de la division: \", dividendo / divisor)"
      ],
      "metadata": {
        "colab": {
          "base_uri": "https://localhost:8080/"
        },
        "id": "-jBOFf68vq7V",
        "outputId": "cc348549-cc1a-433a-8dff-8e9edc6b5865"
      },
      "execution_count": null,
      "outputs": [
        {
          "output_type": "stream",
          "name": "stdout",
          "text": [
            "Introduzca el dividendo: 2\n",
            "Introduzca el divisor: 2\n",
            "Resultado de la division:  1.0\n"
          ]
        }
      ]
    },
    {
      "cell_type": "code",
      "source": [
        "dividendo = float(input(\"Introduzca el dividendo: \"))\n",
        "divisor = float(input(\"Introduzca el divisor: \"))\n",
        "print(\"Resultado de la division: \", dividendo / divisor)"
      ],
      "metadata": {
        "colab": {
          "base_uri": "https://localhost:8080/"
        },
        "id": "Tvz9-q7AvvI9",
        "outputId": "b1734638-db09-4a95-c3f1-a94b2db08731"
      },
      "execution_count": null,
      "outputs": [
        {
          "output_type": "stream",
          "name": "stdout",
          "text": [
            "Introduzca el dividendo: 1.5\n",
            "Introduzca el divisor: 0.3\n",
            "Resultado de la division:  5.0\n"
          ]
        }
      ]
    },
    {
      "cell_type": "code",
      "source": [
        "dividendo = float(input(\"Introduzca el dividendo: \"))\n",
        "divisor = float(input(\"Introduzca el divisor: \"))\n",
        "resultado = round(dividendo / divisor,1)\n",
        "print(\"Resultado de la division: \", resultado)"
      ],
      "metadata": {
        "colab": {
          "base_uri": "https://localhost:8080/"
        },
        "id": "76fxGlj_wAYe",
        "outputId": "a93105ef-73b4-4558-f882-e4363e0b9fd5"
      },
      "execution_count": null,
      "outputs": [
        {
          "output_type": "stream",
          "name": "stdout",
          "text": [
            "Introduzca el dividendo: 1.5\n",
            "Introduzca el divisor: 0.3\n",
            "Resultado de la division:  5.0\n"
          ]
        }
      ]
    },
    {
      "cell_type": "markdown",
      "source": [
        "Objetivo 2: Cadenas de texto"
      ],
      "metadata": {
        "id": "zatHJGOnxERm"
      }
    },
    {
      "cell_type": "code",
      "source": [
        "cadenaejemplo = \"Hola Time of Software\"\n",
        "print(cadenaejemplo)"
      ],
      "metadata": {
        "colab": {
          "base_uri": "https://localhost:8080/"
        },
        "id": "ijr55cROxG_J",
        "outputId": "784bae1e-bcaa-4596-87f4-fbf7756997d9"
      },
      "execution_count": null,
      "outputs": [
        {
          "output_type": "stream",
          "name": "stdout",
          "text": [
            "Hola Time of Software\n"
          ]
        }
      ]
    },
    {
      "cell_type": "code",
      "source": [
        "cadenaejemplo = \"Hola Time of Software\\nEsto es una cadena\\nmultilinea\"\n",
        "print(cadenaejemplo)"
      ],
      "metadata": {
        "colab": {
          "base_uri": "https://localhost:8080/"
        },
        "id": "RLCFKFoDxNjY",
        "outputId": "f1848468-19e9-49cf-98eb-9b114b1ee048"
      },
      "execution_count": null,
      "outputs": [
        {
          "output_type": "stream",
          "name": "stdout",
          "text": [
            "Hola Time of Software\n",
            "Esto es una cadena\n",
            "multilinea\n"
          ]
        }
      ]
    },
    {
      "cell_type": "markdown",
      "source": [
        "Objetivo 2: Colecciones"
      ],
      "metadata": {
        "id": "GYK_nDENyBcX"
      }
    },
    {
      "cell_type": "code",
      "source": [
        "lista = [\"ordenador\",\"teclado\",\"raton\"]\n",
        "print(lista)"
      ],
      "metadata": {
        "colab": {
          "base_uri": "https://localhost:8080/"
        },
        "id": "UpRCosBIygkB",
        "outputId": "21bb789a-c320-4298-91e3-1d9336955231"
      },
      "execution_count": null,
      "outputs": [
        {
          "output_type": "stream",
          "name": "stdout",
          "text": [
            "['ordenador', 'teclado', 'raton']\n"
          ]
        }
      ]
    },
    {
      "cell_type": "code",
      "source": [
        "lista = [\"ordenador\",\"teclado\",\"raton\"]\n",
        "print((\"Número de elementos:\"),len(lista))\n",
        "print(lista[0])\n",
        "print(lista[1])\n",
        "print(lista[2])"
      ],
      "metadata": {
        "colab": {
          "base_uri": "https://localhost:8080/"
        },
        "id": "5QoAXcXsyvzC",
        "outputId": "9165be9c-c324-4073-ac98-8749cfb8f487"
      },
      "execution_count": null,
      "outputs": [
        {
          "output_type": "stream",
          "name": "stdout",
          "text": [
            "Número de elementos: 3\n",
            "ordenador\n",
            "teclado\n",
            "raton\n"
          ]
        }
      ]
    },
    {
      "cell_type": "code",
      "source": [
        "listaoriginal = [\"ordenador\",\"teclado\",\"raton\"]\n",
        "listanueva = [\"monitor\",\"impresora\",\"altavoces\"]\n",
        "listafinal = listaoriginal + listanueva\n",
        "print(listafinal)"
      ],
      "metadata": {
        "colab": {
          "base_uri": "https://localhost:8080/"
        },
        "id": "MuoT4spKzplR",
        "outputId": "ddab52a1-f2ae-43a9-f2d9-88ed62d6d749"
      },
      "execution_count": null,
      "outputs": [
        {
          "output_type": "stream",
          "name": "stdout",
          "text": [
            "['ordenador', 'teclado', 'raton', 'monitor', 'impresora', 'altavoces']\n"
          ]
        }
      ]
    },
    {
      "cell_type": "code",
      "source": [
        "lista = [\"ordenador\",\"teclado\",\"raton\"]\n",
        "print(lista)\n",
        "lista = lista + [\"mesa\"]\n",
        "print(lista)"
      ],
      "metadata": {
        "colab": {
          "base_uri": "https://localhost:8080/"
        },
        "id": "r0OnfALYz0YJ",
        "outputId": "6434dba2-0319-44e6-d3af-877faeb9b06a"
      },
      "execution_count": null,
      "outputs": [
        {
          "output_type": "stream",
          "name": "stdout",
          "text": [
            "['ordenador', 'teclado', 'raton']\n",
            "['ordenador', 'teclado', 'raton', 'mesa']\n"
          ]
        }
      ]
    },
    {
      "cell_type": "code",
      "source": [
        "lista = [\"ordenador\",\"teclado\",\"raton\"]\n",
        "print(lista)\n",
        "lista[0] = \"monitor\"\n",
        "lista[1] = \"impresora\"\n",
        "lista[2] = \"altavoces\"\n",
        "print(lista)"
      ],
      "metadata": {
        "colab": {
          "base_uri": "https://localhost:8080/"
        },
        "id": "2RIBYu-w0H8n",
        "outputId": "cf77b15b-c287-47d0-cafd-2d38eaf476d2"
      },
      "execution_count": null,
      "outputs": [
        {
          "output_type": "stream",
          "name": "stdout",
          "text": [
            "['ordenador', 'teclado', 'raton']\n",
            "['monitor', 'impresora', 'altavoces']\n"
          ]
        }
      ]
    },
    {
      "cell_type": "code",
      "source": [
        "lista = [\"ordenador\",\"teclado\",\"raton\"]\n",
        "print(lista)\n",
        "del lista[1]\n",
        "print(lista)"
      ],
      "metadata": {
        "colab": {
          "base_uri": "https://localhost:8080/"
        },
        "id": "13uN_-je0VZr",
        "outputId": "c483aab2-edf6-45ab-a6fe-970d3f9f050d"
      },
      "execution_count": null,
      "outputs": [
        {
          "output_type": "stream",
          "name": "stdout",
          "text": [
            "['ordenador', 'teclado', 'raton']\n",
            "['ordenador', 'raton']\n"
          ]
        }
      ]
    },
    {
      "cell_type": "code",
      "source": [
        "#Listas como elementos de listas\n",
        "lista = [\"ordenador\",\"teclado\",\"raton\", [\"tarjeta de sonido\",\"microfono\",\"altavoces\"]]\n",
        "print(lista[0])\n",
        "print(lista[1])\n",
        "print(lista[2])\n",
        "print(lista[3])\n",
        "print(lista[3][0])\n",
        "print(lista[3][1])\n",
        "print(lista[3][2])"
      ],
      "metadata": {
        "colab": {
          "base_uri": "https://localhost:8080/"
        },
        "id": "_5H9sS7N0sl7",
        "outputId": "508d95c0-1fbc-4adf-853d-1dac7897dcac"
      },
      "execution_count": null,
      "outputs": [
        {
          "output_type": "stream",
          "name": "stdout",
          "text": [
            "ordenador\n",
            "teclado\n",
            "raton\n",
            "['tarjeta de sonido', 'microfono', 'altavoces']\n",
            "tarjeta de sonido\n",
            "microfono\n",
            "altavoces\n"
          ]
        }
      ]
    },
    {
      "cell_type": "code",
      "source": [
        "tupla = (\"ordenador\",\"teclado\",\"raton\")\n",
        "print(tupla)\n",
        "print(len(tupla))\n",
        "print(tupla[0])\n",
        "print(tupla[1])\n",
        "print(tupla[2])"
      ],
      "metadata": {
        "colab": {
          "base_uri": "https://localhost:8080/"
        },
        "id": "p-RiS4-R06z8",
        "outputId": "a9435f3d-a75a-4433-b4b4-da8cb341f7cf"
      },
      "execution_count": null,
      "outputs": [
        {
          "output_type": "stream",
          "name": "stdout",
          "text": [
            "('ordenador', 'teclado', 'raton')\n",
            "3\n",
            "ordenador\n",
            "teclado\n",
            "raton\n"
          ]
        }
      ]
    },
    {
      "cell_type": "code",
      "source": [
        "mesestraducidos = {\"Enero\" : \"January\",\n",
        "\"Febrero\" : \"February\",\n",
        "\"Marzo\" : \"March\",\n",
        "\"Abril\" : \"April\",\n",
        "\"Mayo\" : \"May\",\n",
        "\"Junio\" : \"June\",\n",
        "\"Julio\" : \"July\",\n",
        "\"Agosto\" : \"August\",\n",
        "\"Septiembre\" : \"September\",\n",
        "\"Octubre\" : \"October\",\n",
        "\"Noviembre\" : \"November\",\n",
        "\"Diciembre\" : \"December\"}\n",
        "print(mesestraducidos[\"Noviembre\"])\n",
        "print(mesestraducidos[\"Mayo\"])"
      ],
      "metadata": {
        "colab": {
          "base_uri": "https://localhost:8080/"
        },
        "id": "WtcmrOaF5ran",
        "outputId": "11b7a4cb-aea2-4687-b876-cd51ae6705ab"
      },
      "execution_count": null,
      "outputs": [
        {
          "output_type": "stream",
          "name": "stdout",
          "text": [
            "November\n",
            "May\n"
          ]
        }
      ]
    },
    {
      "cell_type": "markdown",
      "source": [
        "Objetivo 2: Booleanos y operadores lógicos y relaciones"
      ],
      "metadata": {
        "id": "8rQBTSFw50m_"
      }
    },
    {
      "cell_type": "code",
      "source": [
        "variablebooleana = True\n",
        "print(variablebooleana)"
      ],
      "metadata": {
        "colab": {
          "base_uri": "https://localhost:8080/"
        },
        "id": "yoYUvtDy50Fy",
        "outputId": "1be97f28-30bf-4d5a-cebb-5b0644de2bb9"
      },
      "execution_count": null,
      "outputs": [
        {
          "output_type": "stream",
          "name": "stdout",
          "text": [
            "True\n"
          ]
        }
      ]
    },
    {
      "cell_type": "code",
      "source": [
        "variablebooleana = False\n",
        "print(variablebooleana)"
      ],
      "metadata": {
        "colab": {
          "base_uri": "https://localhost:8080/"
        },
        "id": "okYVaG_i6EkE",
        "outputId": "9f8bfa12-585f-4003-9344-760945df8996"
      },
      "execution_count": null,
      "outputs": [
        {
          "output_type": "stream",
          "name": "stdout",
          "text": [
            "False\n"
          ]
        }
      ]
    },
    {
      "cell_type": "code",
      "source": [
        "booleano1 = True\n",
        "booleano2 = True\n",
        "print(booleano1 and booleano2)"
      ],
      "metadata": {
        "colab": {
          "base_uri": "https://localhost:8080/"
        },
        "id": "vnkoG-286Yrf",
        "outputId": "40e24873-1978-4863-e7f3-685b541064bb"
      },
      "execution_count": null,
      "outputs": [
        {
          "output_type": "stream",
          "name": "stdout",
          "text": [
            "True\n"
          ]
        }
      ]
    },
    {
      "cell_type": "code",
      "source": [
        "booleano1 = True\n",
        "booleano2 = False\n",
        "print(booleano1 and booleano2)"
      ],
      "metadata": {
        "colab": {
          "base_uri": "https://localhost:8080/"
        },
        "id": "T_NgH_Pp6f6L",
        "outputId": "2740c550-5ebf-4858-83d0-b71a24ab22c0"
      },
      "execution_count": null,
      "outputs": [
        {
          "output_type": "stream",
          "name": "stdout",
          "text": [
            "False\n"
          ]
        }
      ]
    },
    {
      "cell_type": "code",
      "source": [
        "booleano1 = False\n",
        "booleano2 = False\n",
        "print(booleano1 and booleano2)"
      ],
      "metadata": {
        "colab": {
          "base_uri": "https://localhost:8080/"
        },
        "id": "JZwNN70i6j_z",
        "outputId": "915acef9-f0ff-4309-9776-0ea1013694d4"
      },
      "execution_count": null,
      "outputs": [
        {
          "output_type": "stream",
          "name": "stdout",
          "text": [
            "False\n"
          ]
        }
      ]
    },
    {
      "cell_type": "code",
      "source": [
        "booleano1 = True\n",
        "booleano2 = True\n",
        "print(booleano1 or booleano2)"
      ],
      "metadata": {
        "colab": {
          "base_uri": "https://localhost:8080/"
        },
        "id": "R2nbDJit6ujF",
        "outputId": "e49246d2-e8eb-4c68-ae9e-357e32db8298"
      },
      "execution_count": null,
      "outputs": [
        {
          "output_type": "stream",
          "name": "stdout",
          "text": [
            "True\n"
          ]
        }
      ]
    },
    {
      "cell_type": "code",
      "source": [
        "booleano1 = True\n",
        "booleano2 = False\n",
        "print(booleano1 or booleano2)"
      ],
      "metadata": {
        "colab": {
          "base_uri": "https://localhost:8080/"
        },
        "id": "dVw9AbAo6yAw",
        "outputId": "512b51fd-9a4f-4ea9-da9d-0e49cde0b85d"
      },
      "execution_count": null,
      "outputs": [
        {
          "output_type": "stream",
          "name": "stdout",
          "text": [
            "True\n"
          ]
        }
      ]
    },
    {
      "cell_type": "code",
      "source": [
        "booleano1 = False\n",
        "booleano2 = False\n",
        "print(booleano1 or booleano2)"
      ],
      "metadata": {
        "colab": {
          "base_uri": "https://localhost:8080/"
        },
        "id": "ngZJa-_c61p7",
        "outputId": "5bfe18ea-9a85-4fe8-ac26-ec1082dffb26"
      },
      "execution_count": null,
      "outputs": [
        {
          "output_type": "stream",
          "name": "stdout",
          "text": [
            "False\n"
          ]
        }
      ]
    },
    {
      "cell_type": "code",
      "source": [
        "booleano = False\n",
        "print(not booleano)"
      ],
      "metadata": {
        "colab": {
          "base_uri": "https://localhost:8080/"
        },
        "id": "Z2kMffB_69E1",
        "outputId": "5b9f5f9f-4e64-4343-8c7f-e58ac4190499"
      },
      "execution_count": null,
      "outputs": [
        {
          "output_type": "stream",
          "name": "stdout",
          "text": [
            "True\n"
          ]
        }
      ]
    },
    {
      "cell_type": "code",
      "source": [
        "booleano = True\n",
        "print(not booleano)"
      ],
      "metadata": {
        "colab": {
          "base_uri": "https://localhost:8080/"
        },
        "id": "nfVO6HPm7BHy",
        "outputId": "1df88882-ab44-4422-c368-a65bc4219fec"
      },
      "execution_count": null,
      "outputs": [
        {
          "output_type": "stream",
          "name": "stdout",
          "text": [
            "False\n"
          ]
        }
      ]
    },
    {
      "cell_type": "code",
      "source": [
        "#Python evalúa primero los NOT, luego los AND y por último los OR."
      ],
      "metadata": {
        "id": "pyN-t6cZ7Mai"
      },
      "execution_count": null,
      "outputs": []
    },
    {
      "cell_type": "code",
      "source": [
        "numero1 = 6\n",
        "numero2 = 9\n",
        "print(numero1 > numero2)\n",
        "print(numero1 >= numero2)\n",
        "print(numero1 < numero2)\n",
        "print(numero1 <= numero2)\n",
        "print(numero1 == numero2)\n",
        "print(numero1 != numero2)"
      ],
      "metadata": {
        "colab": {
          "base_uri": "https://localhost:8080/"
        },
        "id": "k5GDtwPi7btl",
        "outputId": "71403030-b382-4797-e459-9b645a9e4041"
      },
      "execution_count": null,
      "outputs": [
        {
          "output_type": "stream",
          "name": "stdout",
          "text": [
            "False\n",
            "False\n",
            "True\n",
            "True\n",
            "False\n",
            "True\n"
          ]
        }
      ]
    },
    {
      "cell_type": "markdown",
      "source": [
        "Objetivo 2: Cadenas de texto avanzado"
      ],
      "metadata": {
        "id": "RNdbU_E975H-"
      }
    },
    {
      "cell_type": "code",
      "source": [
        "cadenaejemplo = \"en un lugar de la mancha...\"\n",
        "print(cadenaejemplo.capitalize())"
      ],
      "metadata": {
        "colab": {
          "base_uri": "https://localhost:8080/"
        },
        "id": "nHhu5li38C0B",
        "outputId": "6a8b9ac0-d38b-49d3-88dc-1054ec54ea74"
      },
      "execution_count": null,
      "outputs": [
        {
          "output_type": "stream",
          "name": "stdout",
          "text": [
            "En un lugar de la mancha...\n"
          ]
        }
      ]
    },
    {
      "cell_type": "code",
      "source": [
        "cadenaejemplo = \"en un lugar de la mancha...\"\n",
        "print(cadenaejemplo.upper())"
      ],
      "metadata": {
        "colab": {
          "base_uri": "https://localhost:8080/"
        },
        "id": "EcyIHT8-8QEi",
        "outputId": "61750e62-d1af-45e0-a588-dc992e7631e9"
      },
      "execution_count": null,
      "outputs": [
        {
          "output_type": "stream",
          "name": "stdout",
          "text": [
            "EN UN LUGAR DE LA MANCHA...\n"
          ]
        }
      ]
    },
    {
      "cell_type": "code",
      "source": [
        "cadenaejemplo = \"EN UN LUGAR DE LA MANCHA...\"\n",
        "print(cadenaejemplo.lower())"
      ],
      "metadata": {
        "colab": {
          "base_uri": "https://localhost:8080/"
        },
        "id": "y5tsXl058V5Q",
        "outputId": "0af34b1b-d530-41f8-841e-edf0fe074938"
      },
      "execution_count": null,
      "outputs": [
        {
          "output_type": "stream",
          "name": "stdout",
          "text": [
            "en un lugar de la mancha...\n"
          ]
        }
      ]
    },
    {
      "cell_type": "code",
      "source": [
        "cadenaejemplo = \"En un lugar de la mancha...\"\n",
        "print(len(cadenaejemplo))"
      ],
      "metadata": {
        "colab": {
          "base_uri": "https://localhost:8080/"
        },
        "id": "UQFlqndG8cFO",
        "outputId": "c0a78fc0-7cec-4cac-d4d3-5936558cbf1b"
      },
      "execution_count": null,
      "outputs": [
        {
          "output_type": "stream",
          "name": "stdout",
          "text": [
            "27\n"
          ]
        }
      ]
    },
    {
      "cell_type": "code",
      "source": [
        "# Si es alfanúmerico\n",
        "cadenaejemplo = \"En un lugar de la mancha...\"\n",
        "print(cadenaejemplo.isalnum())\n",
        "cadenaejemplo = \"1234567890\"\n",
        "print(cadenaejemplo.isalnum())\n",
        "cadenaejemplo = \"abcdefg1234567890\"\n",
        "print(cadenaejemplo.isalnum())\n",
        "cadenaejemplo = \"abcdefg 1234567890\"\n",
        "print(cadenaejemplo.isalnum())"
      ],
      "metadata": {
        "colab": {
          "base_uri": "https://localhost:8080/"
        },
        "id": "o04_ye8x8hEL",
        "outputId": "e3e27587-83df-440d-b48c-971b9d84b145"
      },
      "execution_count": null,
      "outputs": [
        {
          "output_type": "stream",
          "name": "stdout",
          "text": [
            "False\n",
            "True\n",
            "True\n",
            "False\n"
          ]
        }
      ]
    },
    {
      "cell_type": "code",
      "source": [
        "# Si es carácter, solo letras\n",
        "cadenaejemplo = \"Enunlugardelamancha\"\n",
        "print(cadenaejemplo.isalpha())\n",
        "cadenaejemplo = \"En un lugar de la mancha\"\n",
        "print(cadenaejemplo.isalpha())\n",
        "cadenaejemplo = \"1234567890\"\n",
        "print(cadenaejemplo.isalpha())\n",
        "cadenaejemplo = \"abcdefg 1234567890\"\n",
        "print(cadenaejemplo.isalpha())"
      ],
      "metadata": {
        "colab": {
          "base_uri": "https://localhost:8080/"
        },
        "id": "V-Gzw3ql9rgi",
        "outputId": "899a06ee-2f6c-4ba4-f5a0-46a12308e0fe"
      },
      "execution_count": null,
      "outputs": [
        {
          "output_type": "stream",
          "name": "stdout",
          "text": [
            "True\n",
            "False\n",
            "False\n",
            "False\n"
          ]
        }
      ]
    },
    {
      "cell_type": "code",
      "source": [
        "# Si es digito, solo son números\n",
        "cadenaejemplo = \"En un lugar de la mancha\"\n",
        "print(cadenaejemplo.isdigit())\n",
        "cadenaejemplo = \"1234567890\"\n",
        "print(cadenaejemplo.isdigit())\n",
        "cadenaejemplo = \"abcdefg 1234567890\"\n",
        "print(cadenaejemplo.isdigit())"
      ],
      "metadata": {
        "colab": {
          "base_uri": "https://localhost:8080/"
        },
        "id": "4vu7Q13j9-Zc",
        "outputId": "8282bc6b-0269-496b-99ec-c8f1d02ce377"
      },
      "execution_count": null,
      "outputs": [
        {
          "output_type": "stream",
          "name": "stdout",
          "text": [
            "False\n",
            "True\n",
            "False\n"
          ]
        }
      ]
    },
    {
      "cell_type": "code",
      "source": [
        "# Si es minúscula\n",
        "cadenaejemplo = \"En un lugar de la mancha\"\n",
        "print(cadenaejemplo.islower())\n",
        "cadenaejemplo = \"en un lugar de la mancha\"\n",
        "print(cadenaejemplo.islower())"
      ],
      "metadata": {
        "colab": {
          "base_uri": "https://localhost:8080/"
        },
        "id": "EZmctlc6-etM",
        "outputId": "222ef691-97a7-4653-f2aa-d29d14cd8947"
      },
      "execution_count": null,
      "outputs": [
        {
          "output_type": "stream",
          "name": "stdout",
          "text": [
            "False\n",
            "True\n"
          ]
        }
      ]
    },
    {
      "cell_type": "code",
      "source": [
        "# Si es mayúscula\n",
        "cadenaejemplo = \"En un lugar de la mancha\"\n",
        "print(cadenaejemplo.isupper())\n",
        "cadenaejemplo = \"EN UN LUGAR DE LA MANCHA\"\n",
        "print(cadenaejemplo.isupper())"
      ],
      "metadata": {
        "colab": {
          "base_uri": "https://localhost:8080/"
        },
        "id": "DVMK7qIh-97J",
        "outputId": "ef145cf4-26dd-428f-84ac-81663962018d"
      },
      "execution_count": null,
      "outputs": [
        {
          "output_type": "stream",
          "name": "stdout",
          "text": [
            "False\n",
            "True\n"
          ]
        }
      ]
    },
    {
      "cell_type": "code",
      "source": [
        "# Eliminar espacios en blanco, al inicio, al final, en ambos lados\n",
        "cadenaejemplo = \" En un lugar de la mancha\"\n",
        "print(cadenaejemplo.lstrip())\n",
        "cadenaejemplo = \"En un lugar de la mancha \"\n",
        "print(cadenaejemplo.rstrip())\n",
        "cadenaejemplo = \" En un lugar de la mancha \"\n",
        "print(cadenaejemplo.strip())"
      ],
      "metadata": {
        "colab": {
          "base_uri": "https://localhost:8080/"
        },
        "id": "QhKvJp2D_MZP",
        "outputId": "8158d13b-8563-41f9-973a-c55674b2d0c2"
      },
      "execution_count": null,
      "outputs": [
        {
          "output_type": "stream",
          "name": "stdout",
          "text": [
            "En un lugar de la mancha\n",
            "En un lugar de la mancha\n",
            "En un lugar de la mancha\n"
          ]
        }
      ]
    },
    {
      "cell_type": "code",
      "source": [
        "cadenaejemplo = \"abcdefghijklmnopqrstuvwxyz\"\n",
        "print(max(cadenaejemplo))\n",
        "print(min(cadenaejemplo))"
      ],
      "metadata": {
        "colab": {
          "base_uri": "https://localhost:8080/"
        },
        "id": "0RvCSkurAtMB",
        "outputId": "d9b6bdb7-c308-4a96-9499-30d770318678"
      },
      "execution_count": null,
      "outputs": [
        {
          "output_type": "stream",
          "name": "stdout",
          "text": [
            "z\n",
            "a\n"
          ]
        }
      ]
    },
    {
      "cell_type": "code",
      "source": [
        "cadenaejemplo = \"AEIOU\"\n",
        "print(cadenaejemplo.replace('A','E'))"
      ],
      "metadata": {
        "colab": {
          "base_uri": "https://localhost:8080/"
        },
        "id": "Nu3YkjNEA2fy",
        "outputId": "220df3a7-ec6d-47a6-d7b5-a6a62f8e1893"
      },
      "execution_count": null,
      "outputs": [
        {
          "output_type": "stream",
          "name": "stdout",
          "text": [
            "EEIOU\n"
          ]
        }
      ]
    },
    {
      "cell_type": "code",
      "source": [
        "cadenaejemplo = \"En un lugar de la mancha\"\n",
        "print(cadenaejemplo.swapcase())"
      ],
      "metadata": {
        "colab": {
          "base_uri": "https://localhost:8080/"
        },
        "id": "MauY7Fs1BPm5",
        "outputId": "8792d32d-444c-49ff-c6c9-56568fb9be9f"
      },
      "execution_count": null,
      "outputs": [
        {
          "output_type": "stream",
          "name": "stdout",
          "text": [
            "eN UN LUGAR DE LA MANCHA\n"
          ]
        }
      ]
    },
    {
      "cell_type": "code",
      "source": [
        "cadenaejemplo = \"En un lugar de la mancha\"\n",
        "print(cadenaejemplo.split())"
      ],
      "metadata": {
        "colab": {
          "base_uri": "https://localhost:8080/"
        },
        "id": "j00igeZ8BVrb",
        "outputId": "56e8d4dd-62b1-4d3a-b0ca-261f2016b2e4"
      },
      "execution_count": null,
      "outputs": [
        {
          "output_type": "stream",
          "name": "stdout",
          "text": [
            "['En', 'un', 'lugar', 'de', 'la', 'mancha']\n"
          ]
        }
      ]
    },
    {
      "cell_type": "code",
      "source": [
        "cadenaejemplo = \"31/12/2017\"\n",
        "print(cadenaejemplo.split(\"/\"))"
      ],
      "metadata": {
        "colab": {
          "base_uri": "https://localhost:8080/"
        },
        "id": "qE-9bRxIBnk1",
        "outputId": "0da198b5-515a-490e-cbba-0e1e639a3f80"
      },
      "execution_count": null,
      "outputs": [
        {
          "output_type": "stream",
          "name": "stdout",
          "text": [
            "['31', '12', '2017']\n"
          ]
        }
      ]
    },
    {
      "cell_type": "markdown",
      "source": [
        "Objetivo 3: Control flujo de un programa"
      ],
      "metadata": {
        "id": "Ud-t6Qf9B_YZ"
      }
    },
    {
      "cell_type": "code",
      "source": [
        "#if: te va a permitir generar un bloque de código que se ejecutará si se cumple la condición de entrada que tiene.\n",
        "\n",
        "#elif: te va a permitir generar un camino alternativo con una condición de entrada.\n",
        "\n",
        "#else: te va a permitir generar un camino alternativo que se ejecutará siempre que no se hayan cumplido las condiciones de los posibles\n",
        "#caminos de las instrucciones if y elif."
      ],
      "metadata": {
        "id": "WlYCp0SfCCx9"
      },
      "execution_count": null,
      "outputs": []
    },
    {
      "cell_type": "code",
      "source": [
        "numero = int(input(\"Escriba un numero del 1 al 10: \"))\n",
        "if numero > 10:\n",
        "    print(\"¡El número que has escrito es mayor que 10!\")\n",
        "print(\"Has escrito el número \" + str(numero))"
      ],
      "metadata": {
        "colab": {
          "base_uri": "https://localhost:8080/"
        },
        "id": "syNbtb9rDG1z",
        "outputId": "194fdc76-5079-4d88-aa9b-527a8636ae08"
      },
      "execution_count": null,
      "outputs": [
        {
          "output_type": "stream",
          "name": "stdout",
          "text": [
            "Escriba un numero del 1 al 10: 5\n",
            "Has escrito el número 5\n"
          ]
        }
      ]
    },
    {
      "cell_type": "code",
      "source": [
        "cadenaejemplo = \"En un lugar de la mancha...\"\n",
        "if \"casa\" in cadenaejemplo:\n",
        "  print(\"¡Encontrado!\")\n",
        "else:\n",
        "  print(\"¡No encontrado!\")"
      ],
      "metadata": {
        "colab": {
          "base_uri": "https://localhost:8080/"
        },
        "id": "7cB1EubtEQSG",
        "outputId": "d6246d4b-ff94-4001-9943-b41f2d90c095"
      },
      "execution_count": null,
      "outputs": [
        {
          "output_type": "stream",
          "name": "stdout",
          "text": [
            "¡No encontrado!\n"
          ]
        }
      ]
    },
    {
      "cell_type": "code",
      "source": [
        "cadenaejemplo = \"En un lugar de la mancha\"\n",
        "if cadenaejemplo.startswith('E'):\n",
        "  print(\"¡Empieza por E!\")\n",
        "else:\n",
        "  print(\"¡No empieza por E!\")\n",
        "if cadenaejemplo.endswith('p'):\n",
        "  print(\"¡Termina por p!\")\n",
        "else:\n",
        "  print(\"¡No termina por p!\")"
      ],
      "metadata": {
        "colab": {
          "base_uri": "https://localhost:8080/"
        },
        "id": "CpHu9cVHEfq3",
        "outputId": "4daf0021-1965-47b0-908e-64cff1bd0c20"
      },
      "execution_count": null,
      "outputs": [
        {
          "output_type": "stream",
          "name": "stdout",
          "text": [
            "¡Empieza por E!\n",
            "¡No termina por p!\n"
          ]
        }
      ]
    },
    {
      "cell_type": "code",
      "source": [
        "numero1 = int(input(\"Escriba el primer número: \"))\n",
        "numero2 = int(input(\"Escriba el segundo número: \"))\n",
        "if numero1>numero2:\n",
        "  print(\"¡El primer número es mayor que el segundo!\")\n",
        "elif numero1==numero2:\n",
        "  print(\"¡Ambos número son iguales!\")\n",
        "else:\n",
        "  print(\"¡El primer número es menor que el segundo!\")"
      ],
      "metadata": {
        "colab": {
          "base_uri": "https://localhost:8080/"
        },
        "id": "iAGmG0jpFwdB",
        "outputId": "b080c831-ce11-4714-d8e4-aa6df44a354e"
      },
      "execution_count": null,
      "outputs": [
        {
          "output_type": "stream",
          "name": "stdout",
          "text": [
            "Escriba el primer número: 5\n",
            "Escriba el segundo número: 6\n",
            "¡El primer número es menor que el segundo!\n"
          ]
        }
      ]
    },
    {
      "cell_type": "markdown",
      "source": [
        "Objetivo 4: Bucles"
      ],
      "metadata": {
        "id": "XTFYKIxiGeD3"
      }
    },
    {
      "cell_type": "code",
      "source": [
        "# while, for, bucle anidado\n",
        "\n",
        "# Punto de inicio del bucle.\n",
        "# Punto de fin del bucle.\n",
        "# Número de iteraciones."
      ],
      "metadata": {
        "id": "cXsC-PfTGwD9"
      },
      "execution_count": null,
      "outputs": []
    },
    {
      "cell_type": "code",
      "source": [
        "i = 0\n",
        "while i < 10:\n",
        "  print(i,end=\" \")\n",
        "  i = i + 1"
      ],
      "metadata": {
        "colab": {
          "base_uri": "https://localhost:8080/"
        },
        "id": "Piuzds7VG01a",
        "outputId": "432b9cca-384b-4c6d-a302-b8a6cc75a898"
      },
      "execution_count": null,
      "outputs": [
        {
          "output_type": "stream",
          "name": "stdout",
          "text": [
            "0 1 2 3 4 5 6 7 8 9 "
          ]
        }
      ]
    },
    {
      "cell_type": "code",
      "source": [
        "continuar = True\n",
        "while continuar:\n",
        "  valor = int(input(\"Introduce un entero: \"))\n",
        "  if valor>100:\n",
        "    continuar = False\n",
        "print(\"Programa acabado\")\n",
        "#El programa se detiene cuando el número es mayor a 100"
      ],
      "metadata": {
        "colab": {
          "base_uri": "https://localhost:8080/"
        },
        "id": "yl7Vw5qaIkPf",
        "outputId": "abcb846f-40b5-4209-a7a5-c707b709889a"
      },
      "execution_count": null,
      "outputs": [
        {
          "output_type": "stream",
          "name": "stdout",
          "text": [
            "Introduce un entero: 15\n",
            "Introduce un entero: 100\n",
            "Introduce un entero: 200\n",
            "Programa acabado\n"
          ]
        }
      ]
    },
    {
      "cell_type": "code",
      "source": [
        "lista = [1,2,3,4,5,6,7,8,9]\n",
        "for item in lista:\n",
        "  print(item, end=\", \")"
      ],
      "metadata": {
        "colab": {
          "base_uri": "https://localhost:8080/"
        },
        "id": "nsJxqZvYjMDL",
        "outputId": "fa4b581f-4592-4314-d064-eec066626add"
      },
      "execution_count": null,
      "outputs": [
        {
          "output_type": "stream",
          "name": "stdout",
          "text": [
            "1, 2, 3, 4, 5, 6, 7, 8, 9, "
          ]
        }
      ]
    },
    {
      "cell_type": "code",
      "source": [
        "lista = [\"ordenador\", \"teclado\", \"raton\"]\n",
        "for item in lista:\n",
        "  print(item, end=\", \")"
      ],
      "metadata": {
        "colab": {
          "base_uri": "https://localhost:8080/"
        },
        "id": "npzXS63rj7rJ",
        "outputId": "e620b843-fbad-4c62-e7fb-f751e493bcc9"
      },
      "execution_count": null,
      "outputs": [
        {
          "output_type": "stream",
          "name": "stdout",
          "text": [
            "ordenador, teclado, raton, "
          ]
        }
      ]
    },
    {
      "cell_type": "code",
      "source": [
        "for item in range(10):\n",
        "  print(item, end=\", \")"
      ],
      "metadata": {
        "colab": {
          "base_uri": "https://localhost:8080/"
        },
        "id": "1-O0EABbkH-W",
        "outputId": "ca0c56c3-37da-4911-cec4-572f5efc7a1f"
      },
      "execution_count": null,
      "outputs": [
        {
          "output_type": "stream",
          "name": "stdout",
          "text": [
            "0, 1, 2, 3, 4, 5, 6, 7, 8, 9, "
          ]
        }
      ]
    },
    {
      "cell_type": "code",
      "source": [
        "for item1 in range(3):\n",
        "  for item2 in range(3):\n",
        "    print(\"item1 = \" + str(item1) + \", item2 = \" + str(item2))"
      ],
      "metadata": {
        "colab": {
          "base_uri": "https://localhost:8080/"
        },
        "id": "k_wSbPfVkhET",
        "outputId": "21bcf306-f1d5-4ab3-975c-47710897532c"
      },
      "execution_count": null,
      "outputs": [
        {
          "output_type": "stream",
          "name": "stdout",
          "text": [
            "item1 = 0, item2 = 0\n",
            "item1 = 0, item2 = 1\n",
            "item1 = 0, item2 = 2\n",
            "item1 = 1, item2 = 0\n",
            "item1 = 1, item2 = 1\n",
            "item1 = 1, item2 = 2\n",
            "item1 = 2, item2 = 0\n",
            "item1 = 2, item2 = 1\n",
            "item1 = 2, item2 = 2\n"
          ]
        }
      ]
    },
    {
      "cell_type": "code",
      "source": [
        "item1 = 0\n",
        "while item1 < 3:\n",
        "    for item2 in range(5):\n",
        "        print(\"item1 = \" + str(item1) + \", item2 = \" + str(item2))\n",
        "    item1 = item1 + 1\n"
      ],
      "metadata": {
        "colab": {
          "base_uri": "https://localhost:8080/"
        },
        "id": "jdTVaulimlvY",
        "outputId": "90e6c9ba-5e10-484d-87d6-276ff9a49fb0"
      },
      "execution_count": null,
      "outputs": [
        {
          "output_type": "stream",
          "name": "stdout",
          "text": [
            "item1 = 0, item2 = 0\n",
            "item1 = 0, item2 = 1\n",
            "item1 = 0, item2 = 2\n",
            "item1 = 0, item2 = 3\n",
            "item1 = 0, item2 = 4\n",
            "item1 = 1, item2 = 0\n",
            "item1 = 1, item2 = 1\n",
            "item1 = 1, item2 = 2\n",
            "item1 = 1, item2 = 3\n",
            "item1 = 1, item2 = 4\n",
            "item1 = 2, item2 = 0\n",
            "item1 = 2, item2 = 1\n",
            "item1 = 2, item2 = 2\n",
            "item1 = 2, item2 = 3\n",
            "item1 = 2, item2 = 4\n"
          ]
        }
      ]
    },
    {
      "cell_type": "code",
      "source": [
        "item1 = 0\n",
        "while item1<3:\n",
        "  item2 = 0\n",
        "  while item2<5:\n",
        "    print(\"item1 = \" + str(item1) + \", item2 = \" + str(item2))\n",
        "    item2 = item2 + 1\n",
        "  item1 = item1 + 1"
      ],
      "metadata": {
        "colab": {
          "base_uri": "https://localhost:8080/"
        },
        "id": "NYtqlPeum3ij",
        "outputId": "465bdb83-8a26-4df7-dbdd-092890db7587"
      },
      "execution_count": null,
      "outputs": [
        {
          "output_type": "stream",
          "name": "stdout",
          "text": [
            "item1 = 0, item2 = 0\n",
            "item1 = 0, item2 = 1\n",
            "item1 = 0, item2 = 2\n",
            "item1 = 0, item2 = 3\n",
            "item1 = 0, item2 = 4\n",
            "item1 = 1, item2 = 0\n",
            "item1 = 1, item2 = 1\n",
            "item1 = 1, item2 = 2\n",
            "item1 = 1, item2 = 3\n",
            "item1 = 1, item2 = 4\n",
            "item1 = 2, item2 = 0\n",
            "item1 = 2, item2 = 1\n",
            "item1 = 2, item2 = 2\n",
            "item1 = 2, item2 = 3\n",
            "item1 = 2, item2 = 4\n"
          ]
        }
      ]
    },
    {
      "cell_type": "markdown",
      "source": [
        "Proyecto 1 - Calculadora"
      ],
      "metadata": {
        "id": "HU8Jxxm1nU1d"
      }
    },
    {
      "cell_type": "code",
      "source": [
        "fin = False\n",
        "print (\"\"\"************\n",
        "Calculadora\n",
        "************\n",
        "Menu\n",
        "1) Suma\n",
        "2) Resta\n",
        "3) Multiplicacion\n",
        "4) Division\n",
        "5) Salir\"\"\")\n",
        "while not(fin):\n",
        "  opc = int(input(\"Opcion:\"))\n",
        "  if (opc==1):\n",
        "    sum1 = int(input(\"Sumando uno:\"))\n",
        "    sum2 = int(input(\"Sumando dos:\"))\n",
        "    print (\"La Suma es:\", sum1+sum2)\n",
        "  elif(opc==2):\n",
        "    minuendo = int(input(\"Minuendo:\"))\n",
        "    sustraendo = int(input(\"Sustraendo:\"))\n",
        "    print (\"La Resta es:\", minuendo-sustraendo)\n",
        "  elif(opc==3):\n",
        "    multiplicando = int(input(\"Multiplicando:\"))\n",
        "    multiplicador = int(input(\"Multiplicador:\"))\n",
        "    print (\"La Multiplicacion es:\", multiplicando*multiplicador)\n",
        "  elif(opc==4):\n",
        "    dividendo = int(input(\"Dividendo:\"))\n",
        "    divisor = int(input(\"Divisor:\"))\n",
        "    print (\"La Division es:\", dividendo/divisor)\n",
        "  elif(opc==5):\n",
        "    fin = True"
      ],
      "metadata": {
        "colab": {
          "base_uri": "https://localhost:8080/"
        },
        "id": "uXOuaSMLnTou",
        "outputId": "e27528a8-0573-46fd-99e6-6305c0fcd857"
      },
      "execution_count": null,
      "outputs": [
        {
          "name": "stdout",
          "output_type": "stream",
          "text": [
            "************\n",
            "Calculadora\n",
            "************\n",
            "Menu\n",
            "1) Suma\n",
            "2) Resta\n",
            "3) Multiplicacion\n",
            "4) Division\n",
            "5) Salir\n",
            "Opcion:2\n",
            "Minuendo:15\n",
            "Sustraendo:42\n",
            "La Resta es: -27\n",
            "Opcion:5\n"
          ]
        }
      ]
    },
    {
      "cell_type": "markdown",
      "source": [
        "Objetivo 5: Funciones"
      ],
      "metadata": {
        "id": "ET2E7kmxWsfe"
      }
    },
    {
      "cell_type": "code",
      "source": [
        "def Saludar():\n",
        "  print(\"¡Hola Time of Software!\")\n",
        "Saludar()"
      ],
      "metadata": {
        "colab": {
          "base_uri": "https://localhost:8080/"
        },
        "id": "4ZrbXZzlW5-N",
        "outputId": "caa1d258-55be-4b56-a788-ffbb583765ef"
      },
      "execution_count": null,
      "outputs": [
        {
          "output_type": "stream",
          "name": "stdout",
          "text": [
            "¡Hola Time of Software!\n"
          ]
        }
      ]
    },
    {
      "cell_type": "code",
      "source": [
        "def EsMayorQueCero(param):\n",
        "  if param > 0:\n",
        "    print(param, \"es mayor que cero\")\n",
        "  else:\n",
        "    print(param, \"no es mayor que cero\")\n",
        "numero = int(input(\"Introduce un numero:\"))\n",
        "EsMayorQueCero(numero)"
      ],
      "metadata": {
        "colab": {
          "base_uri": "https://localhost:8080/"
        },
        "id": "qb8jYvvFXicL",
        "outputId": "7509e2d6-d7e2-4b93-eabd-e4827486ee5a"
      },
      "execution_count": null,
      "outputs": [
        {
          "output_type": "stream",
          "name": "stdout",
          "text": [
            "Introduce un numero:15\n",
            "15 es mayor que cero\n"
          ]
        }
      ]
    },
    {
      "cell_type": "code",
      "source": [
        "def Sumar(param1, param2):\n",
        "  return param1 + param2\n",
        "sumando1 = int(input(\"Introduce el primer sumando: \"))\n",
        "sumando2 = int(input(\"Introduce el segundo sumando: \"))\n",
        "resultado = Sumar(sumando1,sumando2)\n",
        "print(\"El resultado de la suma es: \", resultado)"
      ],
      "metadata": {
        "colab": {
          "base_uri": "https://localhost:8080/"
        },
        "id": "YuqMWoIOX3pb",
        "outputId": "980ffe0b-1f31-4e37-9956-78f46d1859a6"
      },
      "execution_count": null,
      "outputs": [
        {
          "output_type": "stream",
          "name": "stdout",
          "text": [
            "Introduce el primer sumando: 15\n",
            "Introduce el segundo sumando: 20\n",
            "El resultado de la suma es:  35\n"
          ]
        }
      ]
    },
    {
      "cell_type": "code",
      "source": [
        "def SumarRestar(param1, param2):\n",
        "  return param1 + param2, param1 - param2\n",
        "numero1 = int(input(\"Introduce el primer numero: \"))\n",
        "numero2 = int(input(\"Introduce el segundo numero: \"))\n",
        "resultadosuma, resultadoresta = SumarRestar(numero1,numero2)\n",
        "print(\"El resultado de la suma es: \", resultadosuma)\n",
        "print(\"El resultado de la resta es: \", resultadoresta)"
      ],
      "metadata": {
        "colab": {
          "base_uri": "https://localhost:8080/"
        },
        "id": "NhmvP2bfYBRm",
        "outputId": "a1a76574-3218-459e-8897-c0c3900f90a8"
      },
      "execution_count": null,
      "outputs": [
        {
          "output_type": "stream",
          "name": "stdout",
          "text": [
            "Introduce el primer numero: 15\n",
            "Introduce el segundo numero: 20\n",
            "El resultado de la suma es:  35\n",
            "El resultado de la resta es:  -5\n"
          ]
        }
      ]
    },
    {
      "cell_type": "code",
      "source": [
        "def Sumar(*valores):\n",
        "  resultado = 0\n",
        "  for item in valores:\n",
        "    resultado = resultado + item\n",
        "  return resultado\n",
        "resultado = Sumar(23,56,3,89,78,455)\n",
        "print(\"El resultado de la suma es: \", resultado)"
      ],
      "metadata": {
        "colab": {
          "base_uri": "https://localhost:8080/"
        },
        "id": "ebx5TXvLYN6g",
        "outputId": "24592151-30a0-4326-da6f-47d3cadf77e7"
      },
      "execution_count": null,
      "outputs": [
        {
          "output_type": "stream",
          "name": "stdout",
          "text": [
            "El resultado de la suma es:  704\n"
          ]
        }
      ]
    },
    {
      "cell_type": "markdown",
      "source": [
        "Objetivo 5: Funciones anidadas"
      ],
      "metadata": {
        "id": "pZ0Z78cQYorW"
      }
    },
    {
      "cell_type": "code",
      "source": [
        "def SumarRestar(param1, param2):\n",
        "  return Sumar(param1,param2), Restar(param1,param2)\n",
        "def Sumar(sumando1, sumando2):\n",
        "  return sumando1 + sumando2\n",
        "def Restar(minuendo, sustraendo):\n",
        "  return minuendo - sustraendo\n",
        "numero1 = int(input(\"Introduce el primer numero: \"))\n",
        "numero2 = int(input(\"Introduce el segundo numero: \"))\n",
        "resultadosuma, resultadoresta = SumarRestar(numero1,numero2)\n",
        "print(\"El resultado de la suma es: \", resultadosuma)\n",
        "print(\"El resultado de la resta es: \", resultadoresta)"
      ],
      "metadata": {
        "colab": {
          "base_uri": "https://localhost:8080/"
        },
        "id": "qfYOHc_6YnHy",
        "outputId": "c2bf1667-f89a-4fad-d04c-b71e3df951e9"
      },
      "execution_count": null,
      "outputs": [
        {
          "output_type": "stream",
          "name": "stdout",
          "text": [
            "Introduce el primer numero: 15\n",
            "Introduce el segundo numero: 20\n",
            "El resultado de la suma es:  35\n",
            "El resultado de la resta es:  -5\n"
          ]
        }
      ]
    },
    {
      "cell_type": "code",
      "source": [
        "def Sumar():\n",
        "  sum1 = int(input(\"Sumando uno:\"))\n",
        "  sum2 = int(input(\"Sumando dos:\"))\n",
        "  print (\"La Suma es:\", sum1+sum2)\n",
        "def Restar():\n",
        "  minuendo = int(input(\"Minuendo:\"))\n",
        "  sustraendo = int(input(\"Sustraendo:\"))\n",
        "  print (\"La Resta es:\", minuendo-sustraendo)\n",
        "def Multiplicar():\n",
        "  multiplicando = int(input(\"Multiplicando:\"))\n",
        "  multiplicador = int(input(\"Multiplicador:\"))\n",
        "  print (\"La Multiplicacion es:\", multiplicando*multiplicador)\n",
        "def Dividir():\n",
        "  dividendo = int(input(\"Dividendo:\"))\n",
        "  divisor = int(input(\"Divisor:\"))\n",
        "  print (\"La Division es:\", dividendo/divisor)\n",
        "def Calculadora():\n",
        "  fin = False\n",
        "  while not(fin):\n",
        "    opc = int(input(\"Opcion:\"))\n",
        "    if (opc==1):\n",
        "      Sumar()\n",
        "    elif(opc==2):\n",
        "      Restar()\n",
        "    elif(opc==3):\n",
        "      Multiplicar()\n",
        "    elif(opc==4):\n",
        "      Dividir()\n",
        "    elif(opc==5):\n",
        "      fin = 1\n",
        "print (\"\"\"************\n",
        "Calculadora\n",
        "************\n",
        "Menu\n",
        "1) Suma\n",
        "2) Resta\n",
        "3) Multiplicacion\n",
        "4) Division\n",
        "5) Salir\"\"\")\n",
        "Calculadora()"
      ],
      "metadata": {
        "colab": {
          "base_uri": "https://localhost:8080/"
        },
        "id": "2vshI24lY3kR",
        "outputId": "66c29258-7e6c-4607-be15-c008f03036ff"
      },
      "execution_count": null,
      "outputs": [
        {
          "name": "stdout",
          "output_type": "stream",
          "text": [
            "************\n",
            "Calculadora\n",
            "************\n",
            "Menu\n",
            "1) Suma\n",
            "2) Resta\n",
            "3) Multiplicacion\n",
            "4) Division\n",
            "5) Salir\n",
            "Opcion:4\n",
            "Dividendo:89\n",
            "Divisor:9\n",
            "La Division es: 9.88888888888889\n",
            "Opcion:5\n"
          ]
        }
      ]
    },
    {
      "cell_type": "markdown",
      "source": [
        "Objetivo 6: Programación orientada a Objetos básica"
      ],
      "metadata": {
        "id": "b2tvzO_JfyjO"
      }
    },
    {
      "cell_type": "code",
      "source": [
        "class Punto:\n",
        "  def __init__ (self, x, y):\n",
        "    self.X = x\n",
        "    self.Y = y\n",
        "  def MostrarPunto(self):\n",
        "    print(\"El punto es (\",self.X,\",\",self.Y,\")\")\n",
        "p1 = Punto(4,6)\n",
        "p1.MostrarPunto()"
      ],
      "metadata": {
        "colab": {
          "base_uri": "https://localhost:8080/"
        },
        "id": "DwkHBhWYfw3c",
        "outputId": "29738560-4ae9-4f7e-c712-72124fc185a6"
      },
      "execution_count": null,
      "outputs": [
        {
          "output_type": "stream",
          "name": "stdout",
          "text": [
            "El punto es ( 4 , 6 )\n"
          ]
        }
      ]
    },
    {
      "cell_type": "code",
      "source": [
        "class Punto:\n",
        "  def __init__ (self, x, y):\n",
        "    self.X = x\n",
        "    self.Y = y\n",
        "  def MostrarPunto(self):\n",
        "    print(\"El punto es (\",self.X,\",\",self.Y,\")\")\n",
        "p1 = Punto (4,6)\n",
        "p2 = Punto(-5,9)\n",
        "p3 = Punto(3,-7)\n",
        "p4 = Punto(0,4)\n",
        "p1.MostrarPunto()\n",
        "p2.MostrarPunto()\n",
        "p3.MostrarPunto()\n",
        "p4.MostrarPunto()"
      ],
      "metadata": {
        "colab": {
          "base_uri": "https://localhost:8080/"
        },
        "id": "Z42sjQXNhxHM",
        "outputId": "f3cb3e37-5e42-41c1-f6cc-2eebb70e8bb7"
      },
      "execution_count": null,
      "outputs": [
        {
          "output_type": "stream",
          "name": "stdout",
          "text": [
            "El punto es ( 4 , 6 )\n",
            "El punto es ( -5 , 9 )\n",
            "El punto es ( 3 , -7 )\n",
            "El punto es ( 0 , 4 )\n"
          ]
        }
      ]
    },
    {
      "cell_type": "code",
      "source": [
        "class Punto:\n",
        "  def __init__ (self, x, y):\n",
        "    self.X = x\n",
        "    self.Y = y\n",
        "  def MostrarPunto(self):\n",
        "    print(\"El punto es (\",self.X,\",\",self.Y,\")\")\n",
        "p1 = Punto(4,6)\n",
        "p1.MostrarPunto()\n",
        "p1.X = 7\n",
        "p1.Y = 3\n",
        "p1.MostrarPunto()"
      ],
      "metadata": {
        "colab": {
          "base_uri": "https://localhost:8080/"
        },
        "id": "-ud-vPPjiYfS",
        "outputId": "4fed30e4-0a88-4b73-c98b-c345af7a16f8"
      },
      "execution_count": null,
      "outputs": [
        {
          "output_type": "stream",
          "name": "stdout",
          "text": [
            "El punto es ( 4 , 6 )\n",
            "El punto es ( 7 , 3 )\n"
          ]
        }
      ]
    },
    {
      "cell_type": "code",
      "source": [
        "# Clase de muestra con método init\n",
        "class Punto:\n",
        "# Método o constructor init\n",
        "  def __init__ (self, x, y):\n",
        "    self.X = x\n",
        "    self.Y = y\n",
        "# Método de muestra\n",
        "  def MostrarPunto(self):\n",
        "    print(\"El punto de X y Y es: (\",self.X,\",\",self.Y,\")\")\n",
        "# Objetos\n",
        "p1 = Punto(4,6)\n",
        "p1.MostrarPunto()\n",
        "p2 = Punto(3,8)\n",
        "p2.MostrarPunto()\n",
        "p1 = p2\n",
        "p1.MostrarPunto()"
      ],
      "metadata": {
        "colab": {
          "base_uri": "https://localhost:8080/"
        },
        "id": "hamjpTSci4LH",
        "outputId": "eb9c3c88-178c-4d78-9cd8-cffd32375c8f"
      },
      "execution_count": null,
      "outputs": [
        {
          "output_type": "stream",
          "name": "stdout",
          "text": [
            "El punto de X y Y es: ( 4 , 6 )\n",
            "El punto de X y Y es: ( 3 , 8 )\n",
            "El punto de X y Y es: ( 3 , 8 )\n"
          ]
        }
      ]
    },
    {
      "cell_type": "code",
      "source": [
        "class Persona:\n",
        "  def __init__ (self, nombre, edad):\n",
        "    self.Nombre = nombre\n",
        "    self.Edad = edad\n",
        "  def descripcion (self):\n",
        "    print (\"Nombre: \", self.Nombre, \"Edad: \", self.Edad)\n",
        "h1 = Persona(\"Juan\", 36)\n",
        "h1.descripcion()\n",
        "h2 = Persona(\"Ana\", 10)\n",
        "h2.descripcion()"
      ],
      "metadata": {
        "colab": {
          "base_uri": "https://localhost:8080/"
        },
        "id": "5Uev1dihkrSB",
        "outputId": "c1f98632-949a-40e3-c7a9-49efdd86162a"
      },
      "execution_count": null,
      "outputs": [
        {
          "output_type": "stream",
          "name": "stdout",
          "text": [
            "Nombre:  Juan Edad:  36\n",
            "Nombre:  Ana Edad:  10\n"
          ]
        }
      ]
    },
    {
      "cell_type": "code",
      "source": [
        "class Punto:\n",
        "  def __init__ (self, x, y):\n",
        "    self.X = x\n",
        "    self.Y = y\n",
        "  def MostrarPunto(self):\n",
        "    print(\"El punto es (\",self.X,\",\",self.Y,\")\")\n",
        "\n",
        "class Triangulo:\n",
        "  def __init__ (self, v1,v2,v3):\n",
        "    self.V1 = v1\n",
        "    self.V2 = v2\n",
        "    self.V3 = v3\n",
        "  def MostrarVertices(self):\n",
        "    self.V1.MostrarPunto()\n",
        "    self.V2.MostrarPunto()\n",
        "    self.V3.MostrarPunto()\n",
        "\n",
        "v1 = Punto(3,4)\n",
        "v2 = Punto(6,8)\n",
        "v3 = Punto(9,2)\n",
        "triangulo = Triangulo(v1,v2,v3)\n",
        "triangulo.MostrarVertices()"
      ],
      "metadata": {
        "colab": {
          "base_uri": "https://localhost:8080/"
        },
        "id": "aGs4OGEglM7h",
        "outputId": "35c5163b-ff8e-4ad0-d2e0-8564f724daac"
      },
      "execution_count": null,
      "outputs": [
        {
          "output_type": "stream",
          "name": "stdout",
          "text": [
            "El punto es ( 3 , 4 )\n",
            "El punto es ( 6 , 8 )\n",
            "El punto es ( 9 , 2 )\n"
          ]
        }
      ]
    },
    {
      "cell_type": "markdown",
      "source": [
        "Biblioteca"
      ],
      "metadata": {
        "id": "mRQdGE02ti0j"
      }
    },
    {
      "cell_type": "code",
      "source": [
        "class Autor:\n",
        "    def __init__(self, nombre, apellidos):\n",
        "        self.Nombre = nombre\n",
        "        self.Apellidos = apellidos\n",
        "\n",
        "    def MostrarAutor(self):\n",
        "        print(\"Autor: \", self.Nombre, \" \", self.Apellidos)\n",
        "\n",
        "\n",
        "class Libro:\n",
        "    def __init__(self, titulo, isbn):\n",
        "        self.Titulo = titulo\n",
        "        self.ISBN = isbn\n",
        "\n",
        "    def AñadirAutor(self, autor):\n",
        "        self.Autor = autor\n",
        "\n",
        "    def MostrarLibro(self):\n",
        "        print(\"------ Libro ------\")\n",
        "        print(\"Titulo: \", self.Titulo)\n",
        "        print(\"ISBN: \", self.ISBN)\n",
        "        self.Autor.MostrarAutor()\n",
        "        print(\"-------------------\")\n",
        "\n",
        "    def ObtenerTitulo(self):\n",
        "        return self.Titulo\n",
        "\n",
        "\n",
        "class Biblioteca:\n",
        "    def __init__(self):\n",
        "        self.ListaLibros = []\n",
        "\n",
        "    def NumeroLibros(self):\n",
        "        return len(self.ListaLibros)\n",
        "\n",
        "    def AñadirLibro(self, libro):\n",
        "        self.ListaLibros = self.ListaLibros + [libro]\n",
        "\n",
        "    def MostrarBiblioteca(self):\n",
        "        print(\"########################################\")\n",
        "        for item in self.ListaLibros:\n",
        "            item.MostrarLibro()\n",
        "        print(\"########################################\")\n",
        "\n",
        "    def BorrarLibro(self, titulo):\n",
        "        encontrado = False\n",
        "        posicionaborrar = -1\n",
        "\n",
        "        for item in self.ListaLibros:\n",
        "            posicionaborrar += 1\n",
        "            if item.ObtenerTitulo() == titulo:\n",
        "                encontrado = True\n",
        "                break\n",
        "\n",
        "        if encontrado:\n",
        "            del self.ListaLibros[posicionaborrar]\n",
        "            print(\"¡Libro borrado correctamente!\")\n",
        "        else:\n",
        "            print(\"¡Libro no encontrado!\")\n",
        "\n",
        "\n",
        "def MostrarMenu():\n",
        "    print(\"\"\"Menu\n",
        "1) Añadir libro a la biblioteca\n",
        "2) Mostrar biblioteca\n",
        "3) Borrar libro\n",
        "4) ¿Numero de libros?\n",
        "5) Salir\"\"\")\n",
        "\n",
        "\n",
        "def AñadirLibroABiblioteca(biblioteca):\n",
        "    titulo = input(\"Introduzca el titulo del libro: \")\n",
        "    isbn = input(\"Introduzca el ISBN del libro: \")\n",
        "    autornombre = input(\"Introduzca el nombre del autor: \")\n",
        "    autorapellidos = input(\"Introduzca el apellido del autor: \")\n",
        "    autor = Autor(autornombre, autorapellidos)\n",
        "    libro = Libro(titulo, isbn)\n",
        "    libro.AñadirAutor(autor)\n",
        "    biblioteca.AñadirLibro(libro)\n",
        "    return biblioteca\n",
        "\n",
        "\n",
        "def MostrarBiblioteca(biblioteca):\n",
        "    biblioteca.MostrarBiblioteca()\n",
        "\n",
        "\n",
        "def BorrarLibro(biblioteca):\n",
        "    titulo = input(\"Introduzca el titulo del libro a borrar: \")\n",
        "    biblioteca.BorrarLibro(titulo)\n",
        "\n",
        "\n",
        "def NumeroLibros(biblioteca):\n",
        "    print(\"El numero de libros en la biblioteca es: \", biblioteca.NumeroLibros())\n",
        "\n",
        "\n",
        "# Código principal\n",
        "fin = False\n",
        "biblioteca = Biblioteca()\n",
        "\n",
        "while not fin:\n",
        "    MostrarMenu()\n",
        "    opcion = int(input(\"Seleccione opcion: \"))\n",
        "\n",
        "    if opcion == 1:\n",
        "        biblioteca = AñadirLibroABiblioteca(biblioteca)\n",
        "    elif opcion == 2:\n",
        "        MostrarBiblioteca(biblioteca)\n",
        "    elif opcion == 3:\n",
        "        BorrarLibro(biblioteca)\n",
        "    elif opcion == 4:\n",
        "        NumeroLibros(biblioteca)\n",
        "    elif opcion == 5:\n",
        "        fin = True\n",
        "        print(\"¡Adios!\")\n"
      ],
      "metadata": {
        "colab": {
          "base_uri": "https://localhost:8080/"
        },
        "id": "N-NJiw-An_PR",
        "outputId": "48e69ab7-2c36-40c6-deb1-9cbbfb2f24b9"
      },
      "execution_count": null,
      "outputs": [
        {
          "output_type": "stream",
          "name": "stdout",
          "text": [
            "Menu\n",
            "1) Añadir libro a la biblioteca\n",
            "2) Mostrar biblioteca\n",
            "3) Borrar libro\n",
            "4) ¿Numero de libros?\n",
            "5) Salir\n",
            "Seleccione opcion: 5\n",
            "¡Adios!\n"
          ]
        }
      ]
    },
    {
      "cell_type": "markdown",
      "source": [
        "Objetivo 7: Programación orientada objetos avanzada"
      ],
      "metadata": {
        "id": "hhG6RoUXu32E"
      }
    },
    {
      "cell_type": "code",
      "source": [
        "# Encapsulación\n",
        "class PuntoPublico:\n",
        "  def __init__ (self, x, y):\n",
        "    self.X = x\n",
        "    self.Y = y\n",
        "class PuntoPrivado:\n",
        "  def __init__ (self, x, y):\n",
        "    self.__X = x\n",
        "    self.__Y = y\n",
        "  def GetX(self):\n",
        "    return self.__X\n",
        "  def GetY(self):\n",
        "    return self.__Y\n",
        "  def SetX(self, x):\n",
        "    self.__X = x\n",
        "  def SetY(self, y):\n",
        "    self.__Y = y\n",
        "publico = PuntoPublico(4,6)\n",
        "privado = PuntoPrivado(7,3)\n",
        "print(\"Valores punto publico:\", publico.X,\",\",publico.Y)\n",
        "print(\"Valores punto privado:\", privado.GetX(),\",\",privado.GetY())\n",
        "publico.X = 2\n",
        "privado.SetX(9)\n",
        "print(\"Valores punto publico:\", publico.X,\",\",publico.Y)\n",
        "print(\"Valores punto privado:\", privado.GetX(),\",\",privado.GetY())"
      ],
      "metadata": {
        "colab": {
          "base_uri": "https://localhost:8080/"
        },
        "id": "2HRa996-u1OC",
        "outputId": "f4464683-fe1c-4cab-dec5-3ae5187d7f76"
      },
      "execution_count": null,
      "outputs": [
        {
          "output_type": "stream",
          "name": "stdout",
          "text": [
            "Valores punto publico: 4 , 6\n",
            "Valores punto privado: 7 , 3\n",
            "Valores punto publico: 2 , 6\n",
            "Valores punto privado: 9 , 3\n"
          ]
        }
      ]
    },
    {
      "cell_type": "code",
      "source": [
        "class OperarValores:\n",
        "  def __init__ (self, v1, v2):\n",
        "    self.__V1 = v1\n",
        "    self.__V2 = v2\n",
        "  def __Sumar(self):\n",
        "    return self.__V1 + self.__V2\n",
        "  def __Restar(self):\n",
        "    return self.__V1 - self.__V2\n",
        "  def Operar(self):\n",
        "    print(\"El resultado de la suma es: \",self.__Sumar())\n",
        "    print(\"El resultado de la resta es: \",self.__Restar())\n",
        "\n",
        "operarvalores = OperarValores(7,3)\n",
        "operarvalores.Operar()"
      ],
      "metadata": {
        "colab": {
          "base_uri": "https://localhost:8080/"
        },
        "id": "FWMfE8g40EOS",
        "outputId": "b016905d-f164-4d12-ab6c-a4b3f85f7ead"
      },
      "execution_count": null,
      "outputs": [
        {
          "output_type": "stream",
          "name": "stdout",
          "text": [
            "El resultado de la suma es:  10\n",
            "El resultado de la resta es:  4\n"
          ]
        }
      ]
    },
    {
      "cell_type": "code",
      "source": [
        "class OperarValores:\n",
        "  def __init__ (self, v1, v2):\n",
        "    self.__V1 = v1\n",
        "    self.__V2 = v2\n",
        "  def __Sumar(self):\n",
        "    return self.__V1 + self.__V2\n",
        "  def __Restar(self):\n",
        "    return self.__V1 - self.__V2\n",
        "  def Operar(self):\n",
        "    print(\"El resultado de la suma es: \",self.__Sumar())\n",
        "    print(\"El resultado de la resta es: \",self.__Restar())\n",
        "operarvalores = OperarValores(7,3)\n",
        "operarvalores.Operar()\n",
        "#print(\"El resultado de la suma es: \",operarvalores.__Sumar())"
      ],
      "metadata": {
        "colab": {
          "base_uri": "https://localhost:8080/"
        },
        "id": "PaSOk25A6OSo",
        "outputId": "550fe77a-99c5-49e3-f936-7c33d67fc6a4"
      },
      "execution_count": 2,
      "outputs": [
        {
          "output_type": "stream",
          "name": "stdout",
          "text": [
            "El resultado de la suma es:  10\n",
            "El resultado de la resta es:  4\n"
          ]
        }
      ]
    },
    {
      "cell_type": "code",
      "source": [
        "# Herencia\n",
        "class Electrodomestico:\n",
        "  def __init__ (self):\n",
        "    self.__Encendido = False\n",
        "    self.__Tension = 0\n",
        "  def Encender(self):\n",
        "    self.__Encendido = True\n",
        "  def Apagar(self):\n",
        "    self.__Encendido = False\n",
        "  def Encendido(self):\n",
        "    return self.__Encendido\n",
        "  def SetTension(self, tension):\n",
        "    self.__Tension = tension\n",
        "  def GetTension(self):\n",
        "    return self.__Tension\n",
        "class Lavadora(Electrodomestico):\n",
        "  def __init__ (self):\n",
        "    self.__RPM = 0\n",
        "    self.__Kilos = 0\n",
        "  def SetRPM(self, rpm):\n",
        "    self.__RPM = rpm\n",
        "  def SetKilos(self, kilos):\n",
        "    self.__Kilos = kilos\n",
        "  def MostrarLavadora(self):\n",
        "    print(\"#########\")\n",
        "    print(\"Lavadora:\")\n",
        "    print(\"\\tRPM:\",self.__RPM)\n",
        "    print(\"\\tKilos:\",self.__Kilos)\n",
        "    print(\"\\tTension:\",self.GetTension())\n",
        "    if self.Encendido():\n",
        "      print(\"\\t¡Lavadora encendida!\")\n",
        "    else:\n",
        "      print(\"\\tLavadora no encendida.\")\n",
        "    print(\"#########\")\n",
        "lavadora = Lavadora()\n",
        "lavadora.SetRPM(1200)\n",
        "lavadora.SetKilos(7)\n",
        "lavadora.SetTension(220)\n",
        "lavadora.Encender()\n",
        "lavadora.MostrarLavadora()"
      ],
      "metadata": {
        "id": "YUrJRQNk90f-",
        "colab": {
          "base_uri": "https://localhost:8080/"
        },
        "outputId": "14addea7-ba19-46db-aef7-12f5e90ab70f"
      },
      "execution_count": 4,
      "outputs": [
        {
          "output_type": "stream",
          "name": "stdout",
          "text": [
            "#########\n",
            "Lavadora:\n",
            "\tRPM: 1200\n",
            "\tKilos: 7\n",
            "\tTension: 220\n",
            "\t¡Lavadora encendida!\n",
            "#########\n"
          ]
        }
      ]
    },
    {
      "cell_type": "code",
      "source": [
        "# Herencia multiple\n",
        "class Hotel:\n",
        "  def __init__ (self):\n",
        "    self.__NumeroHabitaciones = 0\n",
        "    self.__Estrellas = 0\n",
        "  def SetNumeroHabitaciones(self, habs):\n",
        "    self.__NumeroHabitaciones = habs\n",
        "  def SetEstrellas(self, estrellas):\n",
        "    self.__Estrellas = estrellas\n",
        "  def MostrarHotel(self):\n",
        "    print(\"---------\")\n",
        "    print(\"Hotel:\")\n",
        "    print(\"\\tEstrellas:\", self.__Estrellas)\n",
        "    print(\"\\tNumero de habitaciones:\", self.__NumeroHabitaciones)\n",
        "    print(\"---------\")\n",
        "class Restaurante():\n",
        "  def __init__ (self):\n",
        "    self.__Tenedores = 0\n",
        "    self.__HoraApertura = 0\n",
        "  def SetTenedores(self, tenedores):\n",
        "    self.__Tenedores = tenedores\n",
        "  def SetHoraApertura(self, hora):\n",
        "    self.__HoraApertura = hora\n",
        "  def MostrarRestaurante(self):\n",
        "    print(\"---------\")\n",
        "    print(\"Restaurante:\")\n",
        "    print(\"\\tTenedores:\",self.__Tenedores)\n",
        "    print(\"\\tHora de Apertura:\",self.__HoraApertura)\n",
        "    print(\"---------\")\n",
        "class Negocio(Hotel, Restaurante):\n",
        "  def __init__(self):\n",
        "    self.__Nombre = \"\"\n",
        "    self.__Direccion = \"\"\n",
        "    self.__Telefono = 0\n",
        "  def SetNombre(self, nombre):\n",
        "    self.__Nombre = nombre\n",
        "  def SetDireccion(self, direccion):\n",
        "    self.__Direccion = direccion\n",
        "  def SetTelefono(self, telefono):\n",
        "    self.__Telefono = telefono\n",
        "  def MostrarNegocio(self):\n",
        "    print(\"#########\")\n",
        "    print(\"Negocio:\")\n",
        "    print(\"\\tNombre:\", self.__Nombre)\n",
        "    print(\"\\tDireccion:\", self.__Direccion)\n",
        "    print(\"\\tTelefono:\", self.__Telefono)\n",
        "    self.MostrarHotel()\n",
        "    self.MostrarRestaurante()\n",
        "    print(\"#########\")\n",
        "negocio = Negocio()\n",
        "negocio.SetNumeroHabitaciones(255)\n",
        "negocio.SetEstrellas(4)\n",
        "negocio.SetTenedores(3)\n",
        "negocio.SetHoraApertura(8)\n",
        "negocio.SetNombre(\"Time of Software\")\n",
        "negocio.SetDireccion(\"Calle Falsa 123\")\n",
        "negocio.SetTelefono(\"0034914567890\")\n",
        "negocio.MostrarNegocio()"
      ],
      "metadata": {
        "colab": {
          "base_uri": "https://localhost:8080/"
        },
        "id": "-91oOcTu3iM3",
        "outputId": "95ac89c3-7a3d-4c13-f62b-5e40590ccde1"
      },
      "execution_count": 6,
      "outputs": [
        {
          "output_type": "stream",
          "name": "stdout",
          "text": [
            "#########\n",
            "Negocio:\n",
            "\tNombre: Time of Software\n",
            "\tDireccion: Calle Falsa 123\n",
            "\tTelefono: 0034914567890\n",
            "---------\n",
            "Hotel:\n",
            "\tEstrellas: 4\n",
            "\tNumero de habitaciones: 255\n",
            "---------\n",
            "---------\n",
            "Restaurante:\n",
            "\tTenedores: 3\n",
            "\tHora de Apertura: 8\n",
            "---------\n",
            "#########\n"
          ]
        }
      ]
    },
    {
      "cell_type": "code",
      "source": [
        "# Manejo de ficheros - open\n",
        "# Subir el archivo desde tu PC\n",
        "from google.colab import files\n",
        "uploaded = files.upload()\n",
        "\n",
        "# Leer el archivo\n",
        "with open(\"prueba.txt\", \"r\") as f:\n",
        "    texto = f.read()\n",
        "\n",
        "print(texto)\n"
      ],
      "metadata": {
        "colab": {
          "base_uri": "https://localhost:8080/",
          "height": 143
        },
        "id": "O0UO4QDDBCLs",
        "outputId": "f5889d28-9a1e-4352-8f50-faffb0dc3d5e"
      },
      "execution_count": 11,
      "outputs": [
        {
          "output_type": "display_data",
          "data": {
            "text/plain": [
              "<IPython.core.display.HTML object>"
            ],
            "text/html": [
              "\n",
              "     <input type=\"file\" id=\"files-55e44877-0151-4329-9a47-b8f71c3bda84\" name=\"files[]\" multiple disabled\n",
              "        style=\"border:none\" />\n",
              "     <output id=\"result-55e44877-0151-4329-9a47-b8f71c3bda84\">\n",
              "      Upload widget is only available when the cell has been executed in the\n",
              "      current browser session. Please rerun this cell to enable.\n",
              "      </output>\n",
              "      <script>// Copyright 2017 Google LLC\n",
              "//\n",
              "// Licensed under the Apache License, Version 2.0 (the \"License\");\n",
              "// you may not use this file except in compliance with the License.\n",
              "// You may obtain a copy of the License at\n",
              "//\n",
              "//      http://www.apache.org/licenses/LICENSE-2.0\n",
              "//\n",
              "// Unless required by applicable law or agreed to in writing, software\n",
              "// distributed under the License is distributed on an \"AS IS\" BASIS,\n",
              "// WITHOUT WARRANTIES OR CONDITIONS OF ANY KIND, either express or implied.\n",
              "// See the License for the specific language governing permissions and\n",
              "// limitations under the License.\n",
              "\n",
              "/**\n",
              " * @fileoverview Helpers for google.colab Python module.\n",
              " */\n",
              "(function(scope) {\n",
              "function span(text, styleAttributes = {}) {\n",
              "  const element = document.createElement('span');\n",
              "  element.textContent = text;\n",
              "  for (const key of Object.keys(styleAttributes)) {\n",
              "    element.style[key] = styleAttributes[key];\n",
              "  }\n",
              "  return element;\n",
              "}\n",
              "\n",
              "// Max number of bytes which will be uploaded at a time.\n",
              "const MAX_PAYLOAD_SIZE = 100 * 1024;\n",
              "\n",
              "function _uploadFiles(inputId, outputId) {\n",
              "  const steps = uploadFilesStep(inputId, outputId);\n",
              "  const outputElement = document.getElementById(outputId);\n",
              "  // Cache steps on the outputElement to make it available for the next call\n",
              "  // to uploadFilesContinue from Python.\n",
              "  outputElement.steps = steps;\n",
              "\n",
              "  return _uploadFilesContinue(outputId);\n",
              "}\n",
              "\n",
              "// This is roughly an async generator (not supported in the browser yet),\n",
              "// where there are multiple asynchronous steps and the Python side is going\n",
              "// to poll for completion of each step.\n",
              "// This uses a Promise to block the python side on completion of each step,\n",
              "// then passes the result of the previous step as the input to the next step.\n",
              "function _uploadFilesContinue(outputId) {\n",
              "  const outputElement = document.getElementById(outputId);\n",
              "  const steps = outputElement.steps;\n",
              "\n",
              "  const next = steps.next(outputElement.lastPromiseValue);\n",
              "  return Promise.resolve(next.value.promise).then((value) => {\n",
              "    // Cache the last promise value to make it available to the next\n",
              "    // step of the generator.\n",
              "    outputElement.lastPromiseValue = value;\n",
              "    return next.value.response;\n",
              "  });\n",
              "}\n",
              "\n",
              "/**\n",
              " * Generator function which is called between each async step of the upload\n",
              " * process.\n",
              " * @param {string} inputId Element ID of the input file picker element.\n",
              " * @param {string} outputId Element ID of the output display.\n",
              " * @return {!Iterable<!Object>} Iterable of next steps.\n",
              " */\n",
              "function* uploadFilesStep(inputId, outputId) {\n",
              "  const inputElement = document.getElementById(inputId);\n",
              "  inputElement.disabled = false;\n",
              "\n",
              "  const outputElement = document.getElementById(outputId);\n",
              "  outputElement.innerHTML = '';\n",
              "\n",
              "  const pickedPromise = new Promise((resolve) => {\n",
              "    inputElement.addEventListener('change', (e) => {\n",
              "      resolve(e.target.files);\n",
              "    });\n",
              "  });\n",
              "\n",
              "  const cancel = document.createElement('button');\n",
              "  inputElement.parentElement.appendChild(cancel);\n",
              "  cancel.textContent = 'Cancel upload';\n",
              "  const cancelPromise = new Promise((resolve) => {\n",
              "    cancel.onclick = () => {\n",
              "      resolve(null);\n",
              "    };\n",
              "  });\n",
              "\n",
              "  // Wait for the user to pick the files.\n",
              "  const files = yield {\n",
              "    promise: Promise.race([pickedPromise, cancelPromise]),\n",
              "    response: {\n",
              "      action: 'starting',\n",
              "    }\n",
              "  };\n",
              "\n",
              "  cancel.remove();\n",
              "\n",
              "  // Disable the input element since further picks are not allowed.\n",
              "  inputElement.disabled = true;\n",
              "\n",
              "  if (!files) {\n",
              "    return {\n",
              "      response: {\n",
              "        action: 'complete',\n",
              "      }\n",
              "    };\n",
              "  }\n",
              "\n",
              "  for (const file of files) {\n",
              "    const li = document.createElement('li');\n",
              "    li.append(span(file.name, {fontWeight: 'bold'}));\n",
              "    li.append(span(\n",
              "        `(${file.type || 'n/a'}) - ${file.size} bytes, ` +\n",
              "        `last modified: ${\n",
              "            file.lastModifiedDate ? file.lastModifiedDate.toLocaleDateString() :\n",
              "                                    'n/a'} - `));\n",
              "    const percent = span('0% done');\n",
              "    li.appendChild(percent);\n",
              "\n",
              "    outputElement.appendChild(li);\n",
              "\n",
              "    const fileDataPromise = new Promise((resolve) => {\n",
              "      const reader = new FileReader();\n",
              "      reader.onload = (e) => {\n",
              "        resolve(e.target.result);\n",
              "      };\n",
              "      reader.readAsArrayBuffer(file);\n",
              "    });\n",
              "    // Wait for the data to be ready.\n",
              "    let fileData = yield {\n",
              "      promise: fileDataPromise,\n",
              "      response: {\n",
              "        action: 'continue',\n",
              "      }\n",
              "    };\n",
              "\n",
              "    // Use a chunked sending to avoid message size limits. See b/62115660.\n",
              "    let position = 0;\n",
              "    do {\n",
              "      const length = Math.min(fileData.byteLength - position, MAX_PAYLOAD_SIZE);\n",
              "      const chunk = new Uint8Array(fileData, position, length);\n",
              "      position += length;\n",
              "\n",
              "      const base64 = btoa(String.fromCharCode.apply(null, chunk));\n",
              "      yield {\n",
              "        response: {\n",
              "          action: 'append',\n",
              "          file: file.name,\n",
              "          data: base64,\n",
              "        },\n",
              "      };\n",
              "\n",
              "      let percentDone = fileData.byteLength === 0 ?\n",
              "          100 :\n",
              "          Math.round((position / fileData.byteLength) * 100);\n",
              "      percent.textContent = `${percentDone}% done`;\n",
              "\n",
              "    } while (position < fileData.byteLength);\n",
              "  }\n",
              "\n",
              "  // All done.\n",
              "  yield {\n",
              "    response: {\n",
              "      action: 'complete',\n",
              "    }\n",
              "  };\n",
              "}\n",
              "\n",
              "scope.google = scope.google || {};\n",
              "scope.google.colab = scope.google.colab || {};\n",
              "scope.google.colab._files = {\n",
              "  _uploadFiles,\n",
              "  _uploadFilesContinue,\n",
              "};\n",
              "})(self);\n",
              "</script> "
            ]
          },
          "metadata": {}
        },
        {
          "output_type": "stream",
          "name": "stdout",
          "text": [
            "Saving prueba.txt to prueba.txt\n",
            "Time of Software\n",
            "http://www.timeofsoftware.com\n",
            "Aprende Python en un fin de semana\n",
            "Aprende Arduino en un fin de semana\n"
          ]
        }
      ]
    },
    {
      "cell_type": "code",
      "source": [
        "# Lectura de un fichero, linea por linea\n",
        "for linea in open(\"prueba.txt\",\"r\"):\n",
        "  print(linea)"
      ],
      "metadata": {
        "colab": {
          "base_uri": "https://localhost:8080/"
        },
        "id": "aOCv_sj-CSDi",
        "outputId": "23fd67e6-5996-4147-ddd8-a8d5f52454ac"
      },
      "execution_count": 12,
      "outputs": [
        {
          "output_type": "stream",
          "name": "stdout",
          "text": [
            "Time of Software\n",
            "\n",
            "http://www.timeofsoftware.com\n",
            "\n",
            "Aprende Python en un fin de semana\n",
            "\n",
            "Aprende Arduino en un fin de semana\n"
          ]
        }
      ]
    },
    {
      "cell_type": "code",
      "source": [
        "f = open(\"prueba.txt\",\"r\")\n",
        "print(f.readline())\n",
        "print(f.readline())\n",
        "print(f.readline())\n",
        "print(f.readline())\n",
        "f.close()"
      ],
      "metadata": {
        "colab": {
          "base_uri": "https://localhost:8080/"
        },
        "id": "eUgaXii1BFS2",
        "outputId": "a043fac3-6200-4eec-fca2-17aaacfd2d11"
      },
      "execution_count": 13,
      "outputs": [
        {
          "output_type": "stream",
          "name": "stdout",
          "text": [
            "Time of Software\n",
            "\n",
            "http://www.timeofsoftware.com\n",
            "\n",
            "Aprende Python en un fin de semana\n",
            "\n",
            "Aprende Arduino en un fin de semana\n"
          ]
        }
      ]
    },
    {
      "cell_type": "code",
      "source": [
        "f = open(\"prueba.txt\",\"r\")\n",
        "lineas = f.readlines()\n",
        "f.close()\n",
        "print(lineas[0])\n",
        "print(lineas[1])\n",
        "print(lineas[2])\n",
        "print(lineas[3])"
      ],
      "metadata": {
        "colab": {
          "base_uri": "https://localhost:8080/"
        },
        "id": "O7QeFC9RDIjW",
        "outputId": "24ad360b-3608-4558-8d0b-52b6d6dcc2a2"
      },
      "execution_count": 16,
      "outputs": [
        {
          "output_type": "stream",
          "name": "stdout",
          "text": [
            "Time of Software\n",
            "\n",
            "http://www.timeofsoftware.com\n",
            "\n",
            "Aprende Python en un fin de semana\n",
            "\n",
            "Aprende Arduino en un fin de semana\n"
          ]
        }
      ]
    },
    {
      "cell_type": "code",
      "source": [
        "f = open(\"prueba.txt\",\"r\")\n",
        "lineas = list(f)\n",
        "f.close()\n",
        "for item in lineas:\n",
        "  print(item)"
      ],
      "metadata": {
        "colab": {
          "base_uri": "https://localhost:8080/"
        },
        "id": "Ol91q3SMDaWQ",
        "outputId": "ed626a52-c1ff-4aba-fb4a-219a24245caf"
      },
      "execution_count": 17,
      "outputs": [
        {
          "output_type": "stream",
          "name": "stdout",
          "text": [
            "Time of Software\n",
            "\n",
            "http://www.timeofsoftware.com\n",
            "\n",
            "Aprende Python en un fin de semana\n",
            "\n",
            "Aprende Arduino en un fin de semana\n"
          ]
        }
      ]
    },
    {
      "cell_type": "code",
      "source": [
        "# Escritura en fichero\n",
        "print(\"### Fichero original ###\")\n",
        "flectura = open(\"prueba.txt\",\"r\")\n",
        "texto = flectura.read()\n",
        "flectura.close()\n",
        "print(texto)\n",
        "print(\"### Insertando linea... ###\\n\")\n",
        "fescritura = open(\"prueba.txt\",\"a\")\n",
        "fescritura.write(\"info@timeofsoftware.com\\n\")\n",
        "fescritura.close()\n",
        "print(\"### Fichero modificado ###\")\n",
        "flectura = open(\"prueba.txt\",\"r\")\n",
        "texto = flectura.read()\n",
        "flectura.close()\n",
        "print(texto)"
      ],
      "metadata": {
        "colab": {
          "base_uri": "https://localhost:8080/"
        },
        "id": "fEGIOFrgFoGU",
        "outputId": "3eb3f0c2-87ed-418e-f6ba-378d12c96b8e"
      },
      "execution_count": 22,
      "outputs": [
        {
          "output_type": "stream",
          "name": "stdout",
          "text": [
            "### Fichero original ###\n",
            "Time of Software\n",
            "http://www.timeofsoftware.com\n",
            "Aprende Python en un fin de semana\n",
            "Aprende Arduino en un fin de semanainfo@timeofsoftware.com\n",
            "\n",
            "### Insertando linea... ###\n",
            "\n",
            "### Fichero modificado ###\n",
            "Time of Software\n",
            "http://www.timeofsoftware.com\n",
            "Aprende Python en un fin de semana\n",
            "Aprende Arduino en un fin de semanainfo@timeofsoftware.com\n",
            "info@timeofsoftware.com\n",
            "\n"
          ]
        }
      ]
    },
    {
      "cell_type": "code",
      "source": [
        "fcrear = open(\"pruebacreacion.txt\",\"x\")\n",
        "fcrear.write(\"Time of Software\\n\")\n",
        "fcrear.write(\"Fichero creado 8-2-2\\n\")\n",
        "fcrear.close()\n",
        "print(\"### Fichero creado ###\")\n",
        "flectura = open(\"pruebacreacion.txt\",\"r\")\n",
        "texto = flectura.read()\n",
        "flectura.close()\n",
        "print(texto)"
      ],
      "metadata": {
        "colab": {
          "base_uri": "https://localhost:8080/",
          "height": 211
        },
        "id": "-lmWQb0YFq33",
        "outputId": "713c9e42-fd17-4b3c-b09d-58c02f4e3259"
      },
      "execution_count": 23,
      "outputs": [
        {
          "output_type": "error",
          "ename": "FileExistsError",
          "evalue": "[Errno 17] File exists: 'pruebacreacion.txt'",
          "traceback": [
            "\u001b[0;31m---------------------------------------------------------------------------\u001b[0m",
            "\u001b[0;31mFileExistsError\u001b[0m                           Traceback (most recent call last)",
            "\u001b[0;32m<ipython-input-23-0a7e6b35aaf4>\u001b[0m in \u001b[0;36m<cell line: 1>\u001b[0;34m()\u001b[0m\n\u001b[0;32m----> 1\u001b[0;31m \u001b[0mfcrear\u001b[0m \u001b[0;34m=\u001b[0m \u001b[0mopen\u001b[0m\u001b[0;34m(\u001b[0m\u001b[0;34m\"pruebacreacion.txt\"\u001b[0m\u001b[0;34m,\u001b[0m\u001b[0;34m\"x\"\u001b[0m\u001b[0;34m)\u001b[0m\u001b[0;34m\u001b[0m\u001b[0;34m\u001b[0m\u001b[0m\n\u001b[0m\u001b[1;32m      2\u001b[0m \u001b[0mfcrear\u001b[0m\u001b[0;34m.\u001b[0m\u001b[0mwrite\u001b[0m\u001b[0;34m(\u001b[0m\u001b[0;34m\"Time of Software\\n\"\u001b[0m\u001b[0;34m)\u001b[0m\u001b[0;34m\u001b[0m\u001b[0;34m\u001b[0m\u001b[0m\n\u001b[1;32m      3\u001b[0m \u001b[0mfcrear\u001b[0m\u001b[0;34m.\u001b[0m\u001b[0mwrite\u001b[0m\u001b[0;34m(\u001b[0m\u001b[0;34m\"Fichero creado 8-2-2\\n\"\u001b[0m\u001b[0;34m)\u001b[0m\u001b[0;34m\u001b[0m\u001b[0;34m\u001b[0m\u001b[0m\n\u001b[1;32m      4\u001b[0m \u001b[0mfcrear\u001b[0m\u001b[0;34m.\u001b[0m\u001b[0mclose\u001b[0m\u001b[0;34m(\u001b[0m\u001b[0;34m)\u001b[0m\u001b[0;34m\u001b[0m\u001b[0;34m\u001b[0m\u001b[0m\n\u001b[1;32m      5\u001b[0m \u001b[0mprint\u001b[0m\u001b[0;34m(\u001b[0m\u001b[0;34m\"### Fichero creado ###\"\u001b[0m\u001b[0;34m)\u001b[0m\u001b[0;34m\u001b[0m\u001b[0;34m\u001b[0m\u001b[0m\n",
            "\u001b[0;31mFileExistsError\u001b[0m: [Errno 17] File exists: 'pruebacreacion.txt'"
          ]
        }
      ]
    },
    {
      "cell_type": "code",
      "source": [
        "fcrear = open(\"pruebacreacion.txt\",\"w\")\n",
        "fcrear.write(\"Fichero creado desde cero\\n\")\n",
        "fcrear.write(\"Time of Software\\n\")\n",
        "fcrear.write(\"Fichero creado 8-2-3\\n\")\n",
        "fcrear.close()\n",
        "print(\"### Fichero creado ###\")\n",
        "flectura = open(\"pruebacreacion.txt\",\"r\")\n",
        "texto = flectura.read()\n",
        "flectura.close()\n",
        "print(texto)"
      ],
      "metadata": {
        "colab": {
          "base_uri": "https://localhost:8080/"
        },
        "id": "HSLT2AP3GhzZ",
        "outputId": "e78f91b4-c025-4251-9134-f0add6ff4e3a"
      },
      "execution_count": 24,
      "outputs": [
        {
          "output_type": "stream",
          "name": "stdout",
          "text": [
            "### Fichero creado ###\n",
            "Fichero creado desde cero\n",
            "Time of Software\n",
            "Fichero creado 8-2-3\n",
            "\n"
          ]
        }
      ]
    },
    {
      "cell_type": "code",
      "source": [
        "# Control de excepciones\n",
        "try:\n",
        "  print(3/0)\n",
        "except:\n",
        "  print(\"ERROR: Division por cero\")"
      ],
      "metadata": {
        "colab": {
          "base_uri": "https://localhost:8080/"
        },
        "id": "vCM6GJOeKbVC",
        "outputId": "397ced50-7d6a-4eb0-8699-3073a1521e17"
      },
      "execution_count": 27,
      "outputs": [
        {
          "output_type": "stream",
          "name": "stdout",
          "text": [
            "ERROR: Division por cero\n"
          ]
        }
      ]
    },
    {
      "cell_type": "code",
      "source": [
        "print(\"¡Iniciando programa!\")\n",
        "try:\n",
        "  print(3/0)\n",
        "except:\n",
        "  print(\"ERROR: Division erronea\")\n",
        "finally:\n",
        "  print(\"¡Programa acabado!\")"
      ],
      "metadata": {
        "colab": {
          "base_uri": "https://localhost:8080/"
        },
        "id": "DGDyvHvALmWQ",
        "outputId": "2bf03878-11d1-4174-f367-0e38aa0808f9"
      },
      "execution_count": 28,
      "outputs": [
        {
          "output_type": "stream",
          "name": "stdout",
          "text": [
            "¡Iniciando programa!\n",
            "ERROR: Division erronea\n",
            "¡Programa acabado!\n"
          ]
        }
      ]
    },
    {
      "cell_type": "code",
      "source": [
        "print(\"¡Iniciando programa!\")\n",
        "try:\n",
        "  print(3/1)\n",
        "except:\n",
        "  print(\"ERROR: Division erronea\")\n",
        "finally:\n",
        "  print(\"¡Programa acabado!\")"
      ],
      "metadata": {
        "colab": {
          "base_uri": "https://localhost:8080/"
        },
        "id": "3X0MH58aL5IM",
        "outputId": "75aee133-384d-4957-f443-99f621f80c04"
      },
      "execution_count": 29,
      "outputs": [
        {
          "output_type": "stream",
          "name": "stdout",
          "text": [
            "¡Iniciando programa!\n",
            "3.0\n",
            "¡Programa acabado!\n"
          ]
        }
      ]
    },
    {
      "cell_type": "code",
      "source": [
        "print(\"¡Iniciando programa!\")\n",
        "try:\n",
        "  print(3/1)\n",
        "except:\n",
        "  print(\"ERROR: Division erronea\")\n",
        "else:\n",
        "  print(\"¡No se han producido errores!\")\n",
        "finally:\n",
        "  print(\"¡Programa acabado!\")"
      ],
      "metadata": {
        "colab": {
          "base_uri": "https://localhost:8080/"
        },
        "id": "cJHlSvhaMGYT",
        "outputId": "19451d41-c6b7-41e0-f073-8af105a56e42"
      },
      "execution_count": 30,
      "outputs": [
        {
          "output_type": "stream",
          "name": "stdout",
          "text": [
            "¡Iniciando programa!\n",
            "3.0\n",
            "¡No se han producido errores!\n",
            "¡Programa acabado!\n"
          ]
        }
      ]
    },
    {
      "cell_type": "code",
      "source": [
        "print(\"¡Iniciando programa!\")\n",
        "try:\n",
        "  print(3/0)\n",
        "except:\n",
        "  print(\"ERROR: Division erronea\")\n",
        "else:\n",
        "  print(\"¡No se han producido errores!\")\n",
        "finally:\n",
        "  print(\"¡Programa acabado!\")"
      ],
      "metadata": {
        "colab": {
          "base_uri": "https://localhost:8080/"
        },
        "id": "1phw7-UoMY3z",
        "outputId": "1514a61e-c521-4448-bf79-bfbd3733940c"
      },
      "execution_count": 31,
      "outputs": [
        {
          "output_type": "stream",
          "name": "stdout",
          "text": [
            "¡Iniciando programa!\n",
            "ERROR: Division erronea\n",
            "¡Programa acabado!\n"
          ]
        }
      ]
    },
    {
      "cell_type": "code",
      "source": [
        "print(\"¡Iniciando programa!\")\n",
        "try:\n",
        "  print(3/0)\n",
        "except ZeroDivisionError:\n",
        "  print(\"ERROR: Division por cero\")\n",
        "except:\n",
        "  print(\"ERROR: General\")\n",
        "else:\n",
        "  print(\"¡No se han producido errores!\")\n",
        "finally:\n",
        "  print(\"¡Programa acabado!\")"
      ],
      "metadata": {
        "colab": {
          "base_uri": "https://localhost:8080/"
        },
        "id": "LpDJ41ViMfj9",
        "outputId": "755a23e1-4199-4ba0-ed97-82ae5857996d"
      },
      "execution_count": 32,
      "outputs": [
        {
          "output_type": "stream",
          "name": "stdout",
          "text": [
            "¡Iniciando programa!\n",
            "ERROR: Division por cero\n",
            "¡Programa acabado!\n"
          ]
        }
      ]
    }
  ]
}